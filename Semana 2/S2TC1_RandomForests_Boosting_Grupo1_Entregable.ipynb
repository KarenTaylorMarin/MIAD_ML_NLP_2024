{
 "cells": [
  {
   "cell_type": "markdown",
   "metadata": {},
   "source": [
    "![image info](https://raw.githubusercontent.com/albahnsen/MIAD_ML_and_NLP/main/images/banner_1.png)"
   ]
  },
  {
   "cell_type": "markdown",
   "metadata": {},
   "source": [
    "# Taller: Construcción e implementación de modelos Bagging, Random Forest y XGBoost\n",
    "\n",
    "En este taller podrán poner en práctica sus conocimientos sobre la construcción e implementación de modelos de Bagging, Random Forest y XGBoost. El taller está constituido por 8 puntos, en los cuales deberan seguir las intrucciones de cada numeral para su desarrollo."
   ]
  },
  {
   "cell_type": "markdown",
   "metadata": {},
   "source": [
    "## Datos predicción precio de automóviles\n",
    "\n",
    "En este taller se usará el conjunto de datos de Car Listings de Kaggle donde cada observación representa el precio de un automóvil teniendo en cuenta distintas variables como año, marca, modelo, entre otras. El objetivo es predecir el precio del automóvil. Para más detalles puede visitar el siguiente enlace: [datos](https://www.kaggle.com/jpayne/852k-used-car-listings)."
   ]
  },
  {
   "cell_type": "code",
   "execution_count": 1,
   "metadata": {},
   "outputs": [],
   "source": [
    "import warnings\n",
    "warnings.filterwarnings('ignore')"
   ]
  },
  {
   "cell_type": "code",
   "execution_count": 2,
   "metadata": {},
   "outputs": [
    {
     "data": {
      "text/html": [
       "<div>\n",
       "<style scoped>\n",
       "    .dataframe tbody tr th:only-of-type {\n",
       "        vertical-align: middle;\n",
       "    }\n",
       "\n",
       "    .dataframe tbody tr th {\n",
       "        vertical-align: top;\n",
       "    }\n",
       "\n",
       "    .dataframe thead th {\n",
       "        text-align: right;\n",
       "    }\n",
       "</style>\n",
       "<table border=\"1\" class=\"dataframe\">\n",
       "  <thead>\n",
       "    <tr style=\"text-align: right;\">\n",
       "      <th></th>\n",
       "      <th>Price</th>\n",
       "      <th>Year</th>\n",
       "      <th>Mileage</th>\n",
       "      <th>M_Camry</th>\n",
       "      <th>M_Camry4dr</th>\n",
       "      <th>M_CamryBase</th>\n",
       "      <th>M_CamryL</th>\n",
       "      <th>M_CamryLE</th>\n",
       "      <th>M_CamrySE</th>\n",
       "      <th>M_CamryXLE</th>\n",
       "    </tr>\n",
       "  </thead>\n",
       "  <tbody>\n",
       "    <tr>\n",
       "      <th>7</th>\n",
       "      <td>21995</td>\n",
       "      <td>2014</td>\n",
       "      <td>6480</td>\n",
       "      <td>False</td>\n",
       "      <td>False</td>\n",
       "      <td>False</td>\n",
       "      <td>True</td>\n",
       "      <td>False</td>\n",
       "      <td>False</td>\n",
       "      <td>False</td>\n",
       "    </tr>\n",
       "    <tr>\n",
       "      <th>11</th>\n",
       "      <td>13995</td>\n",
       "      <td>2014</td>\n",
       "      <td>39972</td>\n",
       "      <td>False</td>\n",
       "      <td>False</td>\n",
       "      <td>False</td>\n",
       "      <td>False</td>\n",
       "      <td>True</td>\n",
       "      <td>False</td>\n",
       "      <td>False</td>\n",
       "    </tr>\n",
       "    <tr>\n",
       "      <th>167</th>\n",
       "      <td>17941</td>\n",
       "      <td>2016</td>\n",
       "      <td>18989</td>\n",
       "      <td>False</td>\n",
       "      <td>False</td>\n",
       "      <td>False</td>\n",
       "      <td>False</td>\n",
       "      <td>False</td>\n",
       "      <td>True</td>\n",
       "      <td>False</td>\n",
       "    </tr>\n",
       "    <tr>\n",
       "      <th>225</th>\n",
       "      <td>12493</td>\n",
       "      <td>2014</td>\n",
       "      <td>51330</td>\n",
       "      <td>False</td>\n",
       "      <td>False</td>\n",
       "      <td>False</td>\n",
       "      <td>True</td>\n",
       "      <td>False</td>\n",
       "      <td>False</td>\n",
       "      <td>False</td>\n",
       "    </tr>\n",
       "    <tr>\n",
       "      <th>270</th>\n",
       "      <td>7994</td>\n",
       "      <td>2007</td>\n",
       "      <td>116065</td>\n",
       "      <td>False</td>\n",
       "      <td>True</td>\n",
       "      <td>False</td>\n",
       "      <td>False</td>\n",
       "      <td>False</td>\n",
       "      <td>False</td>\n",
       "      <td>False</td>\n",
       "    </tr>\n",
       "  </tbody>\n",
       "</table>\n",
       "</div>"
      ],
      "text/plain": [
       "     Price  Year  Mileage  M_Camry  ...  M_CamryL  M_CamryLE  M_CamrySE  M_CamryXLE\n",
       "7    21995  2014     6480    False  ...      True      False      False       False\n",
       "11   13995  2014    39972    False  ...     False       True      False       False\n",
       "167  17941  2016    18989    False  ...     False      False       True       False\n",
       "225  12493  2014    51330    False  ...      True      False      False       False\n",
       "270   7994  2007   116065    False  ...     False      False      False       False\n",
       "\n",
       "[5 rows x 10 columns]"
      ]
     },
     "execution_count": 2,
     "metadata": {},
     "output_type": "execute_result"
    }
   ],
   "source": [
    "# Importación de librerías\n",
    "%matplotlib inline\n",
    "import pandas as pd\n",
    "import pandas as pd\n",
    "import numpy as np\n",
    "import matplotlib.pyplot as plt\n",
    "from sklearn.tree import DecisionTreeRegressor\n",
    "from sklearn.metrics import mean_squared_error\n",
    "from sklearn.model_selection import cross_val_score\n",
    "\n",
    "\n",
    "# Lectura de la información de archivo .csv\n",
    "data = pd.read_csv('https://raw.githubusercontent.com/albahnsen/MIAD_ML_and_NLP/main/datasets/dataTrain_carListings.zip')\n",
    "\n",
    "# Preprocesamiento de datos para el taller\n",
    "data = data.loc[data['Model'].str.contains('Camry')].drop(['Make', 'State'], axis=1)\n",
    "data = data.join(pd.get_dummies(data['Model'], prefix='M'))\n",
    "data = data.drop(['Model'], axis=1)\n",
    "\n",
    "# Visualización dataset\n",
    "data.head()"
   ]
  },
  {
   "cell_type": "code",
   "execution_count": 3,
   "metadata": {},
   "outputs": [],
   "source": [
    "# Separación de variables predictoras (X) y variable de interés (y)\n",
    "y = data['Price']\n",
    "X = data.drop(['Price'], axis=1)"
   ]
  },
  {
   "cell_type": "code",
   "execution_count": 4,
   "metadata": {},
   "outputs": [],
   "source": [
    "# Separación de datos en set de entrenamiento y test\n",
    "from sklearn.model_selection import train_test_split\n",
    "X_train, X_test, y_train, y_test = train_test_split(X, y, test_size=0.33, random_state=42)"
   ]
  },
  {
   "cell_type": "code",
   "execution_count": 5,
   "metadata": {},
   "outputs": [
    {
     "data": {
      "text/plain": [
       "<Axes: xlabel='Year', ylabel='Mileage'>"
      ]
     },
     "execution_count": 5,
     "metadata": {},
     "output_type": "execute_result"
    },
    {
     "data": {
      "image/png": "[encoded data removed]",
      "text/plain": [
       "<Figure size 432x288 with 2 Axes>"
      ]
     },
     "metadata": {},
     "output_type": "display_data"
    }
   ],
   "source": [
    "# Celda 1\n",
    "\n",
    "# Visualización de la información\n",
    "# Gráfica del salario, años y hits\n",
    "plt.style.use('fivethirtyeight')\n",
    "data.plot(kind='scatter', x='Year', y='Mileage', c='Price', colormap='jet', xlim=(1995, 2020), ylim=(0, 300000))"
   ]
  },
  {
   "cell_type": "markdown",
   "metadata": {},
   "source": [
    "### Punto 1 - Árbol de decisión manual\n",
    "\n",
    "En la celda 1 creen un árbol de decisión **manualmente**  que considere los set de entrenamiento y test definidos anteriormente y presenten el RMSE y MAE del modelo en el set de test."
   ]
  },
  {
   "cell_type": "markdown",
   "metadata": {},
   "source": [
    "Esta gráfica muestra la relación entre el año de fabricación del automóvil (en el eje x), la cantidad de millas recorridas (en el eje y) y el precio del automóvil (representado por el color). Las tonalidades más cálidas indican precios más altos, mientras que las tonalidades más frías indican precios más bajos."
   ]
  },
  {
   "cell_type": "code",
   "execution_count": 6,
   "metadata": {},
   "outputs": [
    {
     "data": {
      "text/plain": [
       "count    10495.000000\n",
       "mean     14538.403716\n",
       "std       3922.420961\n",
       "min       5002.000000\n",
       "25%      11999.000000\n",
       "50%      15000.000000\n",
       "75%      16999.000000\n",
       "max      32444.000000\n",
       "Name: Price, dtype: float64"
      ]
     },
     "execution_count": 6,
     "metadata": {},
     "output_type": "execute_result"
    }
   ],
   "source": [
    "# Resumen estadístico de la variable objetivo\n",
    "y.describe()"
   ]
  },
  {
   "cell_type": "markdown",
   "metadata": {},
   "source": [
    "La base de datos tiene un regisstro de 10,495 automóviles. El precio medio de los automóviles es de 14,538. La desviación estándar es de aproximadamente 3,922, lo que indica la dispersión de los precios alrededor de la media. El precio mínimo registrado es de 5,002, mientras que el precio máximo es de 32,444. El 25% de los precios son menores o iguales a 11,999. El 50% de los precios son menores o iguales a 15,000, lo que coincide con la mediana. El 75% de los precios son menores o iguales a 16,999.\n",
    "\n",
    "El siguiente código construye un árbol de decisión de forma manual y calcula el RMSE y MAE en el conjunto de prueba."
   ]
  },
  {
   "cell_type": "code",
   "execution_count": 7,
   "metadata": {},
   "outputs": [
    {
     "name": "stdout",
     "output_type": "stream",
     "text": [
      "Error Cuadrático Medio (RMSE) en el conjunto de prueba: 2620.020265048591\n",
      "Error Absoluto Medio (MAE) en el conjunto de prueba: 2006.1209850552918\n"
     ]
    }
   ],
   "source": [
    "def calcular_errores(y_real, y_pred):\n",
    "    mse = np.mean(np.square(y_real - y_pred))\n",
    "    mae = np.mean(np.abs(y_real - y_pred))\n",
    "    return np.sqrt(mse), mae\n",
    "\n",
    "\n",
    "def dividir_datos(X, y, indice_caracteristica, valor_division):\n",
    "    indices_izquierdos = X[:, indice_caracteristica] <= valor_division\n",
    "    indices_derechos = ~indices_izquierdos\n",
    "    return X[indices_izquierdos], y[indices_izquierdos], X[indices_derechos], y[indices_derechos]\n",
    "\n",
    "\n",
    "def encontrar_mejor_division(X, y):\n",
    "    mejor_mse = float('inf')\n",
    "    mejor_indice = None\n",
    "    mejor_valor_division = None\n",
    "\n",
    "    for indice_caracteristica in range(X.shape[1]):\n",
    "        valores_unicos = np.unique(X[:, indice_caracteristica])\n",
    "        for valor in valores_unicos:\n",
    "            X_izq, y_izq, X_der, y_der = dividir_datos(X, y, indice_caracteristica, valor)\n",
    "            mse_izq = np.mean(np.square(y_izq - np.mean(y_izq)))\n",
    "            mse_der = np.mean(np.square(y_der - np.mean(y_der)))\n",
    "            mse_total = mse_izq + mse_der\n",
    "\n",
    "            if mse_total < mejor_mse:\n",
    "                mejor_mse = mse_total\n",
    "                mejor_indice = indice_caracteristica\n",
    "                mejor_valor_division = valor\n",
    "\n",
    "    return mejor_indice, mejor_valor_division\n",
    "\n",
    "\n",
    "def construir_arbol(X, y, profundidad_maxima):\n",
    "    if profundidad_maxima == 0 or len(X) <= 1:\n",
    "        return np.mean(y)\n",
    "\n",
    "    mejor_indice, mejor_valor_division = encontrar_mejor_division(X, y)\n",
    "    X_izq, y_izq, X_der, y_der = dividir_datos(X, y, mejor_indice, mejor_valor_division)\n",
    "\n",
    "    subarbol_izq = construir_arbol(X_izq, y_izq, profundidad_maxima - 1)\n",
    "    subarbol_der = construir_arbol(X_der, y_der, profundidad_maxima - 1)\n",
    "\n",
    "    return {'indice_caracteristica': mejor_indice, 'valor_division': mejor_valor_division,\n",
    "            'subarbol_izq': subarbol_izq, 'subarbol_der': subarbol_der}\n",
    "\n",
    "\n",
    "def predecir_arbol(arbol, muestra):\n",
    "    if isinstance(arbol, float):\n",
    "        return arbol\n",
    "    \n",
    "    indice_caracteristica = arbol['indice_caracteristica']\n",
    "    valor_division = arbol['valor_division']\n",
    "\n",
    "    if muestra[indice_caracteristica] <= valor_division:\n",
    "        return predecir_arbol(arbol['subarbol_izq'], muestra)\n",
    "    else:\n",
    "        return predecir_arbol(arbol['subarbol_der'], muestra)\n",
    "\n",
    "\n",
    "arbol_decision = construir_arbol(X_train.values, y_train.values, profundidad_maxima=3)\n",
    "\n",
    "\n",
    "y_pred_test = np.array([predecir_arbol(arbol_decision, muestra) for muestra in X_test.values])\n",
    "\n",
    "\n",
    "rmse_test, mae_test = calcular_errores(y_test.values, y_pred_test)\n",
    "\n",
    "print(\"Error Cuadrático Medio (RMSE) en el conjunto de prueba:\", rmse_test)\n",
    "print(\"Error Absoluto Medio (MAE) en el conjunto de prueba:\", mae_test)\n"
   ]
  },
  {
   "cell_type": "markdown",
   "metadata": {},
   "source": [
    "Los valores obtenidos indican que el modelo tiene un rendimiento aceptable en la predicción del precio de los automóviles en el conjunto de prueba, aunque podrían mejorarse. "
   ]
  },
  {
   "cell_type": "markdown",
   "metadata": {},
   "source": [
    "### Punto 2 - Bagging manual\n",
    "\n",
    "En la celda 2 creen un modelo bagging **manualmente** con 10 árboles de regresión y comenten sobre el desempeño del modelo.\n",
    "\n",
    "Para crear el modelo, se puede generar un conjunto de muestras aleatorias con reemplazo utilizando la función `np.random.choice`"
   ]
  },
  {
   "cell_type": "code",
   "execution_count": 8,
   "metadata": {},
   "outputs": [
    {
     "name": "stdout",
     "output_type": "stream",
     "text": [
      "Arreglo: [    1     2     3 ... 10493 10494 10495]\n",
      "Muestreo aleatorio:  [ 236 5193  906 ... 6181 1255 9678]\n"
     ]
    }
   ],
   "source": [
    "# Celda 2\n",
    "# Vamos a construir varios modelos utilizando un muestreo aleatorio\n",
    "# De la base de datos original hacemos una muestra aleatoria con remplazamiento\n",
    "\n",
    "# Se crea un arreglo de 1 a 10495\n",
    "np.random.seed(1)\n",
    "\n",
    "# Impresión de arreglo y muestreo aleatorio\n",
    "nums = np.arange(1, 10496)\n",
    "print('Arreglo:', nums)\n",
    "print('Muestreo aleatorio: ', np.random.choice(a=nums, size=10495, replace=True))\n"
   ]
  },
  {
   "cell_type": "markdown",
   "metadata": {},
   "source": [
    "Para la implementación manual del modelo se combinan las etiquetas objetivo y_train y las características X_train en un solo DataFrame llamado train. "
   ]
  },
  {
   "cell_type": "code",
   "execution_count": 9,
   "metadata": {},
   "outputs": [
    {
     "data": {
      "text/html": [
       "<div>\n",
       "<style scoped>\n",
       "    .dataframe tbody tr th:only-of-type {\n",
       "        vertical-align: middle;\n",
       "    }\n",
       "\n",
       "    .dataframe tbody tr th {\n",
       "        vertical-align: top;\n",
       "    }\n",
       "\n",
       "    .dataframe thead th {\n",
       "        text-align: right;\n",
       "    }\n",
       "</style>\n",
       "<table border=\"1\" class=\"dataframe\">\n",
       "  <thead>\n",
       "    <tr style=\"text-align: right;\">\n",
       "      <th></th>\n",
       "      <th>Price</th>\n",
       "      <th>Year</th>\n",
       "      <th>Mileage</th>\n",
       "      <th>M_Camry</th>\n",
       "      <th>M_Camry4dr</th>\n",
       "      <th>M_CamryBase</th>\n",
       "      <th>M_CamryL</th>\n",
       "      <th>M_CamryLE</th>\n",
       "      <th>M_CamrySE</th>\n",
       "      <th>M_CamryXLE</th>\n",
       "    </tr>\n",
       "  </thead>\n",
       "  <tbody>\n",
       "    <tr>\n",
       "      <th>318288</th>\n",
       "      <td>18495</td>\n",
       "      <td>2014</td>\n",
       "      <td>39988</td>\n",
       "      <td>False</td>\n",
       "      <td>False</td>\n",
       "      <td>False</td>\n",
       "      <td>False</td>\n",
       "      <td>False</td>\n",
       "      <td>True</td>\n",
       "      <td>False</td>\n",
       "    </tr>\n",
       "    <tr>\n",
       "      <th>333638</th>\n",
       "      <td>10891</td>\n",
       "      <td>2007</td>\n",
       "      <td>38904</td>\n",
       "      <td>False</td>\n",
       "      <td>False</td>\n",
       "      <td>False</td>\n",
       "      <td>False</td>\n",
       "      <td>True</td>\n",
       "      <td>False</td>\n",
       "      <td>False</td>\n",
       "    </tr>\n",
       "    <tr>\n",
       "      <th>234716</th>\n",
       "      <td>18994</td>\n",
       "      <td>2016</td>\n",
       "      <td>29607</td>\n",
       "      <td>False</td>\n",
       "      <td>False</td>\n",
       "      <td>False</td>\n",
       "      <td>False</td>\n",
       "      <td>False</td>\n",
       "      <td>True</td>\n",
       "      <td>False</td>\n",
       "    </tr>\n",
       "    <tr>\n",
       "      <th>208752</th>\n",
       "      <td>13691</td>\n",
       "      <td>2014</td>\n",
       "      <td>50756</td>\n",
       "      <td>False</td>\n",
       "      <td>False</td>\n",
       "      <td>False</td>\n",
       "      <td>False</td>\n",
       "      <td>False</td>\n",
       "      <td>True</td>\n",
       "      <td>False</td>\n",
       "    </tr>\n",
       "    <tr>\n",
       "      <th>348892</th>\n",
       "      <td>19999</td>\n",
       "      <td>2017</td>\n",
       "      <td>10506</td>\n",
       "      <td>False</td>\n",
       "      <td>False</td>\n",
       "      <td>False</td>\n",
       "      <td>False</td>\n",
       "      <td>False</td>\n",
       "      <td>True</td>\n",
       "      <td>False</td>\n",
       "    </tr>\n",
       "    <tr>\n",
       "      <th>...</th>\n",
       "      <td>...</td>\n",
       "      <td>...</td>\n",
       "      <td>...</td>\n",
       "      <td>...</td>\n",
       "      <td>...</td>\n",
       "      <td>...</td>\n",
       "      <td>...</td>\n",
       "      <td>...</td>\n",
       "      <td>...</td>\n",
       "      <td>...</td>\n",
       "    </tr>\n",
       "    <tr>\n",
       "      <th>218085</th>\n",
       "      <td>9995</td>\n",
       "      <td>2010</td>\n",
       "      <td>84057</td>\n",
       "      <td>False</td>\n",
       "      <td>False</td>\n",
       "      <td>False</td>\n",
       "      <td>False</td>\n",
       "      <td>True</td>\n",
       "      <td>False</td>\n",
       "      <td>False</td>\n",
       "    </tr>\n",
       "    <tr>\n",
       "      <th>198455</th>\n",
       "      <td>12898</td>\n",
       "      <td>2012</td>\n",
       "      <td>93770</td>\n",
       "      <td>False</td>\n",
       "      <td>True</td>\n",
       "      <td>False</td>\n",
       "      <td>False</td>\n",
       "      <td>False</td>\n",
       "      <td>False</td>\n",
       "      <td>False</td>\n",
       "    </tr>\n",
       "    <tr>\n",
       "      <th>205572</th>\n",
       "      <td>8988</td>\n",
       "      <td>2010</td>\n",
       "      <td>88644</td>\n",
       "      <td>False</td>\n",
       "      <td>False</td>\n",
       "      <td>True</td>\n",
       "      <td>False</td>\n",
       "      <td>False</td>\n",
       "      <td>False</td>\n",
       "      <td>False</td>\n",
       "    </tr>\n",
       "    <tr>\n",
       "      <th>33541</th>\n",
       "      <td>18995</td>\n",
       "      <td>2015</td>\n",
       "      <td>26180</td>\n",
       "      <td>False</td>\n",
       "      <td>False</td>\n",
       "      <td>False</td>\n",
       "      <td>False</td>\n",
       "      <td>False</td>\n",
       "      <td>True</td>\n",
       "      <td>False</td>\n",
       "    </tr>\n",
       "    <tr>\n",
       "      <th>274804</th>\n",
       "      <td>19103</td>\n",
       "      <td>2017</td>\n",
       "      <td>18254</td>\n",
       "      <td>False</td>\n",
       "      <td>False</td>\n",
       "      <td>False</td>\n",
       "      <td>False</td>\n",
       "      <td>False</td>\n",
       "      <td>True</td>\n",
       "      <td>False</td>\n",
       "    </tr>\n",
       "  </tbody>\n",
       "</table>\n",
       "<p>7031 rows × 10 columns</p>\n",
       "</div>"
      ],
      "text/plain": [
       "        Price  Year  Mileage  ...  M_CamryLE  M_CamrySE  M_CamryXLE\n",
       "318288  18495  2014    39988  ...      False       True       False\n",
       "333638  10891  2007    38904  ...       True      False       False\n",
       "234716  18994  2016    29607  ...      False       True       False\n",
       "208752  13691  2014    50756  ...      False       True       False\n",
       "348892  19999  2017    10506  ...      False       True       False\n",
       "...       ...   ...      ...  ...        ...        ...         ...\n",
       "218085   9995  2010    84057  ...       True      False       False\n",
       "198455  12898  2012    93770  ...      False      False       False\n",
       "205572   8988  2010    88644  ...      False      False       False\n",
       "33541   18995  2015    26180  ...      False       True       False\n",
       "274804  19103  2017    18254  ...      False       True       False\n",
       "\n",
       "[7031 rows x 10 columns]"
      ]
     },
     "execution_count": 9,
     "metadata": {},
     "output_type": "execute_result"
    }
   ],
   "source": [
    "train = pd.concat([y_train, X_train], axis=1)\n",
    "train"
   ]
  },
  {
   "cell_type": "markdown",
   "metadata": {},
   "source": [
    "Se crean 10 muestras de bootstrap."
   ]
  },
  {
   "cell_type": "code",
   "execution_count": 10,
   "metadata": {},
   "outputs": [
    {
     "data": {
      "text/plain": [
       "[array([3582, 3454, 1346, ...,  826,  801, 5657]),\n",
       " array([6962, 3408, 2553, ..., 6611,  877, 6412]),\n",
       " array([1917, 3131,  384, ..., 2876, 6449, 6557]),\n",
       " array([3849, 4565, 6820, ..., 6835, 4643,  639]),\n",
       " array([2468, 3608, 1367, ..., 3108, 2961, 4357]),\n",
       " array([3142, 1537, 5966, ..., 3224, 6922, 3396]),\n",
       " array([6588, 3753, 1786, ..., 2131, 4627, 5672]),\n",
       " array([1289, 3776,  981, ..., 1891, 6034, 6165]),\n",
       " array([6079, 3819, 6976, ..., 6478, 2225, 5072]),\n",
       " array([3952, 3276,  896, ..., 4589, 1964,  893])]"
      ]
     },
     "execution_count": 10,
     "metadata": {},
     "output_type": "execute_result"
    }
   ],
   "source": [
    "# Se repirte el paso anterior 10 veces\n",
    "# Estamos sacando muestras del mismo tamaño de la base inicial. Pero lo estamos haciendo con reemplazamiento. \n",
    "# Esto implica que en cada una de las submuestras, vamos a tener unas observaciones que se repiten, y otras que no aparecen\n",
    "np.random.seed(123)\n",
    "\n",
    "n_samples = train.shape[0]\n",
    "n_B = 10\n",
    "\n",
    "samples = [np.random.choice(a=n_samples, size=n_samples, replace=True) for _ in range(1, n_B +1 )]\n",
    "samples"
   ]
  },
  {
   "cell_type": "code",
   "execution_count": 11,
   "metadata": {},
   "outputs": [
    {
     "data": {
      "text/html": [
       "<div>\n",
       "<style scoped>\n",
       "    .dataframe tbody tr th:only-of-type {\n",
       "        vertical-align: middle;\n",
       "    }\n",
       "\n",
       "    .dataframe tbody tr th {\n",
       "        vertical-align: top;\n",
       "    }\n",
       "\n",
       "    .dataframe thead th {\n",
       "        text-align: right;\n",
       "    }\n",
       "</style>\n",
       "<table border=\"1\" class=\"dataframe\">\n",
       "  <thead>\n",
       "    <tr style=\"text-align: right;\">\n",
       "      <th></th>\n",
       "      <th>Price</th>\n",
       "      <th>Year</th>\n",
       "      <th>Mileage</th>\n",
       "      <th>M_Camry</th>\n",
       "      <th>M_Camry4dr</th>\n",
       "      <th>M_CamryBase</th>\n",
       "      <th>M_CamryL</th>\n",
       "      <th>M_CamryLE</th>\n",
       "      <th>M_CamrySE</th>\n",
       "      <th>M_CamryXLE</th>\n",
       "    </tr>\n",
       "  </thead>\n",
       "  <tbody>\n",
       "    <tr>\n",
       "      <th>151599</th>\n",
       "      <td>17881</td>\n",
       "      <td>2016</td>\n",
       "      <td>40999</td>\n",
       "      <td>False</td>\n",
       "      <td>False</td>\n",
       "      <td>False</td>\n",
       "      <td>False</td>\n",
       "      <td>False</td>\n",
       "      <td>True</td>\n",
       "      <td>False</td>\n",
       "    </tr>\n",
       "    <tr>\n",
       "      <th>171999</th>\n",
       "      <td>14990</td>\n",
       "      <td>2014</td>\n",
       "      <td>52527</td>\n",
       "      <td>False</td>\n",
       "      <td>False</td>\n",
       "      <td>False</td>\n",
       "      <td>False</td>\n",
       "      <td>False</td>\n",
       "      <td>True</td>\n",
       "      <td>False</td>\n",
       "    </tr>\n",
       "    <tr>\n",
       "      <th>304172</th>\n",
       "      <td>8995</td>\n",
       "      <td>2009</td>\n",
       "      <td>123202</td>\n",
       "      <td>False</td>\n",
       "      <td>True</td>\n",
       "      <td>False</td>\n",
       "      <td>False</td>\n",
       "      <td>False</td>\n",
       "      <td>False</td>\n",
       "      <td>False</td>\n",
       "    </tr>\n",
       "    <tr>\n",
       "      <th>74828</th>\n",
       "      <td>14500</td>\n",
       "      <td>2015</td>\n",
       "      <td>38807</td>\n",
       "      <td>False</td>\n",
       "      <td>False</td>\n",
       "      <td>False</td>\n",
       "      <td>False</td>\n",
       "      <td>False</td>\n",
       "      <td>True</td>\n",
       "      <td>False</td>\n",
       "    </tr>\n",
       "    <tr>\n",
       "      <th>192974</th>\n",
       "      <td>9995</td>\n",
       "      <td>2005</td>\n",
       "      <td>51260</td>\n",
       "      <td>False</td>\n",
       "      <td>False</td>\n",
       "      <td>False</td>\n",
       "      <td>False</td>\n",
       "      <td>False</td>\n",
       "      <td>False</td>\n",
       "      <td>True</td>\n",
       "    </tr>\n",
       "    <tr>\n",
       "      <th>...</th>\n",
       "      <td>...</td>\n",
       "      <td>...</td>\n",
       "      <td>...</td>\n",
       "      <td>...</td>\n",
       "      <td>...</td>\n",
       "      <td>...</td>\n",
       "      <td>...</td>\n",
       "      <td>...</td>\n",
       "      <td>...</td>\n",
       "      <td>...</td>\n",
       "    </tr>\n",
       "    <tr>\n",
       "      <th>134843</th>\n",
       "      <td>14555</td>\n",
       "      <td>2014</td>\n",
       "      <td>22221</td>\n",
       "      <td>False</td>\n",
       "      <td>False</td>\n",
       "      <td>False</td>\n",
       "      <td>False</td>\n",
       "      <td>True</td>\n",
       "      <td>False</td>\n",
       "      <td>False</td>\n",
       "    </tr>\n",
       "    <tr>\n",
       "      <th>325075</th>\n",
       "      <td>12991</td>\n",
       "      <td>2013</td>\n",
       "      <td>86593</td>\n",
       "      <td>False</td>\n",
       "      <td>False</td>\n",
       "      <td>False</td>\n",
       "      <td>False</td>\n",
       "      <td>False</td>\n",
       "      <td>True</td>\n",
       "      <td>False</td>\n",
       "    </tr>\n",
       "    <tr>\n",
       "      <th>61213</th>\n",
       "      <td>16997</td>\n",
       "      <td>2014</td>\n",
       "      <td>28044</td>\n",
       "      <td>False</td>\n",
       "      <td>False</td>\n",
       "      <td>False</td>\n",
       "      <td>False</td>\n",
       "      <td>False</td>\n",
       "      <td>True</td>\n",
       "      <td>False</td>\n",
       "    </tr>\n",
       "    <tr>\n",
       "      <th>181222</th>\n",
       "      <td>15949</td>\n",
       "      <td>2016</td>\n",
       "      <td>49368</td>\n",
       "      <td>False</td>\n",
       "      <td>False</td>\n",
       "      <td>False</td>\n",
       "      <td>False</td>\n",
       "      <td>False</td>\n",
       "      <td>False</td>\n",
       "      <td>True</td>\n",
       "    </tr>\n",
       "    <tr>\n",
       "      <th>275601</th>\n",
       "      <td>20981</td>\n",
       "      <td>2015</td>\n",
       "      <td>32069</td>\n",
       "      <td>True</td>\n",
       "      <td>False</td>\n",
       "      <td>False</td>\n",
       "      <td>False</td>\n",
       "      <td>False</td>\n",
       "      <td>False</td>\n",
       "      <td>False</td>\n",
       "    </tr>\n",
       "  </tbody>\n",
       "</table>\n",
       "<p>7031 rows × 10 columns</p>\n",
       "</div>"
      ],
      "text/plain": [
       "        Price  Year  Mileage  ...  M_CamryLE  M_CamrySE  M_CamryXLE\n",
       "151599  17881  2016    40999  ...      False       True       False\n",
       "171999  14990  2014    52527  ...      False       True       False\n",
       "304172   8995  2009   123202  ...      False      False       False\n",
       "74828   14500  2015    38807  ...      False       True       False\n",
       "192974   9995  2005    51260  ...      False      False        True\n",
       "...       ...   ...      ...  ...        ...        ...         ...\n",
       "134843  14555  2014    22221  ...       True      False       False\n",
       "325075  12991  2013    86593  ...      False       True       False\n",
       "61213   16997  2014    28044  ...      False       True       False\n",
       "181222  15949  2016    49368  ...      False      False        True\n",
       "275601  20981  2015    32069  ...      False      False       False\n",
       "\n",
       "[7031 rows x 10 columns]"
      ]
     },
     "execution_count": 11,
     "metadata": {},
     "output_type": "execute_result"
    }
   ],
   "source": [
    "# Visualización muestra boostrap #1 para entremiento. Base de datos utilizando la muestra 1\n",
    "train.iloc[samples[0], :]"
   ]
  },
  {
   "cell_type": "markdown",
   "metadata": {},
   "source": [
    "De igual forma se obtiene la muestra de prueba para evaluar el modelo"
   ]
  },
  {
   "cell_type": "code",
   "execution_count": 12,
   "metadata": {},
   "outputs": [
    {
     "data": {
      "text/html": [
       "<div>\n",
       "<style scoped>\n",
       "    .dataframe tbody tr th:only-of-type {\n",
       "        vertical-align: middle;\n",
       "    }\n",
       "\n",
       "    .dataframe tbody tr th {\n",
       "        vertical-align: top;\n",
       "    }\n",
       "\n",
       "    .dataframe thead th {\n",
       "        text-align: right;\n",
       "    }\n",
       "</style>\n",
       "<table border=\"1\" class=\"dataframe\">\n",
       "  <thead>\n",
       "    <tr style=\"text-align: right;\">\n",
       "      <th></th>\n",
       "      <th>Price</th>\n",
       "      <th>Year</th>\n",
       "      <th>Mileage</th>\n",
       "      <th>M_Camry</th>\n",
       "      <th>M_Camry4dr</th>\n",
       "      <th>M_CamryBase</th>\n",
       "      <th>M_CamryL</th>\n",
       "      <th>M_CamryLE</th>\n",
       "      <th>M_CamrySE</th>\n",
       "      <th>M_CamryXLE</th>\n",
       "    </tr>\n",
       "  </thead>\n",
       "  <tbody>\n",
       "    <tr>\n",
       "      <th>257343</th>\n",
       "      <td>9900</td>\n",
       "      <td>2012</td>\n",
       "      <td>62048</td>\n",
       "      <td>False</td>\n",
       "      <td>False</td>\n",
       "      <td>False</td>\n",
       "      <td>False</td>\n",
       "      <td>True</td>\n",
       "      <td>False</td>\n",
       "      <td>False</td>\n",
       "    </tr>\n",
       "    <tr>\n",
       "      <th>326011</th>\n",
       "      <td>6987</td>\n",
       "      <td>2005</td>\n",
       "      <td>111565</td>\n",
       "      <td>False</td>\n",
       "      <td>True</td>\n",
       "      <td>False</td>\n",
       "      <td>False</td>\n",
       "      <td>False</td>\n",
       "      <td>False</td>\n",
       "      <td>False</td>\n",
       "    </tr>\n",
       "    <tr>\n",
       "      <th>242354</th>\n",
       "      <td>15814</td>\n",
       "      <td>2014</td>\n",
       "      <td>24203</td>\n",
       "      <td>False</td>\n",
       "      <td>False</td>\n",
       "      <td>False</td>\n",
       "      <td>False</td>\n",
       "      <td>False</td>\n",
       "      <td>True</td>\n",
       "      <td>False</td>\n",
       "    </tr>\n",
       "    <tr>\n",
       "      <th>266376</th>\n",
       "      <td>17997</td>\n",
       "      <td>2015</td>\n",
       "      <td>30475</td>\n",
       "      <td>False</td>\n",
       "      <td>False</td>\n",
       "      <td>False</td>\n",
       "      <td>False</td>\n",
       "      <td>False</td>\n",
       "      <td>False</td>\n",
       "      <td>True</td>\n",
       "    </tr>\n",
       "    <tr>\n",
       "      <th>396954</th>\n",
       "      <td>18938</td>\n",
       "      <td>2014</td>\n",
       "      <td>30498</td>\n",
       "      <td>False</td>\n",
       "      <td>False</td>\n",
       "      <td>False</td>\n",
       "      <td>False</td>\n",
       "      <td>False</td>\n",
       "      <td>False</td>\n",
       "      <td>True</td>\n",
       "    </tr>\n",
       "    <tr>\n",
       "      <th>...</th>\n",
       "      <td>...</td>\n",
       "      <td>...</td>\n",
       "      <td>...</td>\n",
       "      <td>...</td>\n",
       "      <td>...</td>\n",
       "      <td>...</td>\n",
       "      <td>...</td>\n",
       "      <td>...</td>\n",
       "      <td>...</td>\n",
       "      <td>...</td>\n",
       "    </tr>\n",
       "    <tr>\n",
       "      <th>144298</th>\n",
       "      <td>17988</td>\n",
       "      <td>2016</td>\n",
       "      <td>39544</td>\n",
       "      <td>False</td>\n",
       "      <td>False</td>\n",
       "      <td>False</td>\n",
       "      <td>False</td>\n",
       "      <td>False</td>\n",
       "      <td>True</td>\n",
       "      <td>False</td>\n",
       "    </tr>\n",
       "    <tr>\n",
       "      <th>364521</th>\n",
       "      <td>19995</td>\n",
       "      <td>2015</td>\n",
       "      <td>37109</td>\n",
       "      <td>False</td>\n",
       "      <td>False</td>\n",
       "      <td>False</td>\n",
       "      <td>False</td>\n",
       "      <td>False</td>\n",
       "      <td>False</td>\n",
       "      <td>True</td>\n",
       "    </tr>\n",
       "    <tr>\n",
       "      <th>120072</th>\n",
       "      <td>18330</td>\n",
       "      <td>2017</td>\n",
       "      <td>27341</td>\n",
       "      <td>False</td>\n",
       "      <td>False</td>\n",
       "      <td>False</td>\n",
       "      <td>False</td>\n",
       "      <td>False</td>\n",
       "      <td>True</td>\n",
       "      <td>False</td>\n",
       "    </tr>\n",
       "    <tr>\n",
       "      <th>99878</th>\n",
       "      <td>10495</td>\n",
       "      <td>2012</td>\n",
       "      <td>78959</td>\n",
       "      <td>False</td>\n",
       "      <td>True</td>\n",
       "      <td>False</td>\n",
       "      <td>False</td>\n",
       "      <td>False</td>\n",
       "      <td>False</td>\n",
       "      <td>False</td>\n",
       "    </tr>\n",
       "    <tr>\n",
       "      <th>387162</th>\n",
       "      <td>12995</td>\n",
       "      <td>2013</td>\n",
       "      <td>97425</td>\n",
       "      <td>False</td>\n",
       "      <td>False</td>\n",
       "      <td>False</td>\n",
       "      <td>False</td>\n",
       "      <td>False</td>\n",
       "      <td>False</td>\n",
       "      <td>True</td>\n",
       "    </tr>\n",
       "  </tbody>\n",
       "</table>\n",
       "<p>3464 rows × 10 columns</p>\n",
       "</div>"
      ],
      "text/plain": [
       "        Price  Year  Mileage  ...  M_CamryLE  M_CamrySE  M_CamryXLE\n",
       "257343   9900  2012    62048  ...       True      False       False\n",
       "326011   6987  2005   111565  ...      False      False       False\n",
       "242354  15814  2014    24203  ...      False       True       False\n",
       "266376  17997  2015    30475  ...      False      False        True\n",
       "396954  18938  2014    30498  ...      False      False        True\n",
       "...       ...   ...      ...  ...        ...        ...         ...\n",
       "144298  17988  2016    39544  ...      False       True       False\n",
       "364521  19995  2015    37109  ...      False      False        True\n",
       "120072  18330  2017    27341  ...      False       True       False\n",
       "99878   10495  2012    78959  ...      False      False       False\n",
       "387162  12995  2013    97425  ...      False      False        True\n",
       "\n",
       "[3464 rows x 10 columns]"
      ]
     },
     "execution_count": 12,
     "metadata": {},
     "output_type": "execute_result"
    }
   ],
   "source": [
    "test = pd.concat([y_test, X_test], axis=1)\n",
    "test"
   ]
  },
  {
   "cell_type": "markdown",
   "metadata": {},
   "source": [
    "A continuación se crean y se entrenan 10 árboles de decisión utilizando cada una de las muestras bootstrap y se realizan predicciones sobre los datos de prueba. "
   ]
  },
  {
   "cell_type": "code",
   "execution_count": 13,
   "metadata": {},
   "outputs": [
    {
     "data": {
      "text/html": [
       "<div>\n",
       "<style scoped>\n",
       "    .dataframe tbody tr th:only-of-type {\n",
       "        vertical-align: middle;\n",
       "    }\n",
       "\n",
       "    .dataframe tbody tr th {\n",
       "        vertical-align: top;\n",
       "    }\n",
       "\n",
       "    .dataframe thead th {\n",
       "        text-align: right;\n",
       "    }\n",
       "</style>\n",
       "<table border=\"1\" class=\"dataframe\">\n",
       "  <thead>\n",
       "    <tr style=\"text-align: right;\">\n",
       "      <th></th>\n",
       "      <th>0</th>\n",
       "      <th>1</th>\n",
       "      <th>2</th>\n",
       "      <th>3</th>\n",
       "      <th>4</th>\n",
       "      <th>5</th>\n",
       "      <th>6</th>\n",
       "      <th>7</th>\n",
       "      <th>8</th>\n",
       "      <th>9</th>\n",
       "    </tr>\n",
       "  </thead>\n",
       "  <tbody>\n",
       "    <tr>\n",
       "      <th>257343</th>\n",
       "      <td>14980.0</td>\n",
       "      <td>13993.0</td>\n",
       "      <td>13649.0</td>\n",
       "      <td>13649.0</td>\n",
       "      <td>11788.0</td>\n",
       "      <td>13649.0</td>\n",
       "      <td>13993.0</td>\n",
       "      <td>13990.0</td>\n",
       "      <td>13990.0</td>\n",
       "      <td>13993.0</td>\n",
       "    </tr>\n",
       "    <tr>\n",
       "      <th>326011</th>\n",
       "      <td>6492.0</td>\n",
       "      <td>5995.0</td>\n",
       "      <td>5995.0</td>\n",
       "      <td>6987.0</td>\n",
       "      <td>5995.0</td>\n",
       "      <td>5995.0</td>\n",
       "      <td>5995.0</td>\n",
       "      <td>6987.0</td>\n",
       "      <td>5995.0</td>\n",
       "      <td>5995.0</td>\n",
       "    </tr>\n",
       "    <tr>\n",
       "      <th>242354</th>\n",
       "      <td>16491.0</td>\n",
       "      <td>16995.0</td>\n",
       "      <td>16491.0</td>\n",
       "      <td>15997.0</td>\n",
       "      <td>15997.0</td>\n",
       "      <td>16491.0</td>\n",
       "      <td>17591.0</td>\n",
       "      <td>16995.0</td>\n",
       "      <td>17404.0</td>\n",
       "      <td>16491.0</td>\n",
       "    </tr>\n",
       "    <tr>\n",
       "      <th>266376</th>\n",
       "      <td>21990.0</td>\n",
       "      <td>21990.0</td>\n",
       "      <td>22500.0</td>\n",
       "      <td>21990.0</td>\n",
       "      <td>15900.0</td>\n",
       "      <td>21990.0</td>\n",
       "      <td>22500.0</td>\n",
       "      <td>21990.0</td>\n",
       "      <td>15813.0</td>\n",
       "      <td>21990.0</td>\n",
       "    </tr>\n",
       "    <tr>\n",
       "      <th>396954</th>\n",
       "      <td>15988.0</td>\n",
       "      <td>16951.0</td>\n",
       "      <td>15988.0</td>\n",
       "      <td>15988.0</td>\n",
       "      <td>15988.0</td>\n",
       "      <td>17900.0</td>\n",
       "      <td>16951.0</td>\n",
       "      <td>16951.0</td>\n",
       "      <td>15988.0</td>\n",
       "      <td>15988.0</td>\n",
       "    </tr>\n",
       "    <tr>\n",
       "      <th>...</th>\n",
       "      <td>...</td>\n",
       "      <td>...</td>\n",
       "      <td>...</td>\n",
       "      <td>...</td>\n",
       "      <td>...</td>\n",
       "      <td>...</td>\n",
       "      <td>...</td>\n",
       "      <td>...</td>\n",
       "      <td>...</td>\n",
       "      <td>...</td>\n",
       "    </tr>\n",
       "    <tr>\n",
       "      <th>144298</th>\n",
       "      <td>13836.0</td>\n",
       "      <td>14800.0</td>\n",
       "      <td>14800.0</td>\n",
       "      <td>14800.0</td>\n",
       "      <td>14800.0</td>\n",
       "      <td>14681.0</td>\n",
       "      <td>14800.0</td>\n",
       "      <td>14800.0</td>\n",
       "      <td>13836.0</td>\n",
       "      <td>13836.0</td>\n",
       "    </tr>\n",
       "    <tr>\n",
       "      <th>364521</th>\n",
       "      <td>15999.0</td>\n",
       "      <td>14995.0</td>\n",
       "      <td>15999.0</td>\n",
       "      <td>16900.0</td>\n",
       "      <td>15999.0</td>\n",
       "      <td>15999.0</td>\n",
       "      <td>17300.0</td>\n",
       "      <td>15999.0</td>\n",
       "      <td>16900.0</td>\n",
       "      <td>15000.0</td>\n",
       "    </tr>\n",
       "    <tr>\n",
       "      <th>120072</th>\n",
       "      <td>23533.0</td>\n",
       "      <td>23533.0</td>\n",
       "      <td>20000.0</td>\n",
       "      <td>17700.0</td>\n",
       "      <td>17700.0</td>\n",
       "      <td>23533.0</td>\n",
       "      <td>17700.0</td>\n",
       "      <td>23533.0</td>\n",
       "      <td>23533.0</td>\n",
       "      <td>20000.0</td>\n",
       "    </tr>\n",
       "    <tr>\n",
       "      <th>99878</th>\n",
       "      <td>12989.0</td>\n",
       "      <td>12995.0</td>\n",
       "      <td>12989.0</td>\n",
       "      <td>12995.0</td>\n",
       "      <td>12991.0</td>\n",
       "      <td>12991.0</td>\n",
       "      <td>10995.0</td>\n",
       "      <td>12991.0</td>\n",
       "      <td>12991.0</td>\n",
       "      <td>12893.0</td>\n",
       "    </tr>\n",
       "    <tr>\n",
       "      <th>387162</th>\n",
       "      <td>10991.0</td>\n",
       "      <td>11314.0</td>\n",
       "      <td>12999.0</td>\n",
       "      <td>12995.0</td>\n",
       "      <td>9995.0</td>\n",
       "      <td>11995.0</td>\n",
       "      <td>11985.0</td>\n",
       "      <td>10991.0</td>\n",
       "      <td>11314.0</td>\n",
       "      <td>14995.0</td>\n",
       "    </tr>\n",
       "  </tbody>\n",
       "</table>\n",
       "<p>3464 rows × 10 columns</p>\n",
       "</div>"
      ],
      "text/plain": [
       "              0        1        2        3  ...        6        7        8        9\n",
       "257343  14980.0  13993.0  13649.0  13649.0  ...  13993.0  13990.0  13990.0  13993.0\n",
       "326011   6492.0   5995.0   5995.0   6987.0  ...   5995.0   6987.0   5995.0   5995.0\n",
       "242354  16491.0  16995.0  16491.0  15997.0  ...  17591.0  16995.0  17404.0  16491.0\n",
       "266376  21990.0  21990.0  22500.0  21990.0  ...  22500.0  21990.0  15813.0  21990.0\n",
       "396954  15988.0  16951.0  15988.0  15988.0  ...  16951.0  16951.0  15988.0  15988.0\n",
       "...         ...      ...      ...      ...  ...      ...      ...      ...      ...\n",
       "144298  13836.0  14800.0  14800.0  14800.0  ...  14800.0  14800.0  13836.0  13836.0\n",
       "364521  15999.0  14995.0  15999.0  16900.0  ...  17300.0  15999.0  16900.0  15000.0\n",
       "120072  23533.0  23533.0  20000.0  17700.0  ...  17700.0  23533.0  23533.0  20000.0\n",
       "99878   12989.0  12995.0  12989.0  12995.0  ...  10995.0  12991.0  12991.0  12893.0\n",
       "387162  10991.0  11314.0  12999.0  12995.0  ...  11985.0  10991.0  11314.0  14995.0\n",
       "\n",
       "[3464 rows x 10 columns]"
      ]
     },
     "execution_count": 13,
     "metadata": {},
     "output_type": "execute_result"
    }
   ],
   "source": [
    "# Construimos un arbol de decisión utilizando cada muestra para entrenar\n",
    "# Construcción un árbol de decisión para cada muestra boostrap\n",
    "\n",
    "# Definición del modelo usando DecisionTreeRegressor de sklearn\n",
    "treereg = DecisionTreeRegressor(max_depth=None, random_state=123)\n",
    "\n",
    "# DataFrame para guardar las predicciones de cada árbol\n",
    "y_pred = pd.DataFrame(index=test.index, columns=list(range(n_B)))\n",
    "\n",
    "# Entrenamiento de un árbol sobre cada muestra bootstrap y predicción sobre los datos de test\n",
    "for i, sample in enumerate(samples):\n",
    "    X_train = train.iloc[sample, 1:]\n",
    "    y_train = train.iloc[sample, 0]\n",
    "    treereg.fit(X_train, y_train)\n",
    "    y_pred.iloc[:, i] = treereg.predict(X_test)\n",
    "    \n",
    "y_pred"
   ]
  },
  {
   "cell_type": "markdown",
   "metadata": {},
   "source": [
    "Las predicciones de los 10 árboles de decisión para cada observación en el conjunto de prueba se muestran en el DataFrame anterior. De forma adicional, es importante analizar el desempeño de cada árbol individualmente para comprender mejor el rendimiento del modelo. "
   ]
  },
  {
   "cell_type": "code",
   "execution_count": 14,
   "metadata": {
    "scrolled": true
   },
   "outputs": [
    {
     "name": "stdout",
     "output_type": "stream",
     "text": [
      "Árbol  0 tiene un rmse:  2141.613353645869\n",
      "Árbol  1 tiene un rmse:  2136.3519863123465\n",
      "Árbol  2 tiene un rmse:  2122.718759132052\n",
      "Árbol  3 tiene un rmse:  2087.278992468617\n",
      "Árbol  4 tiene un rmse:  2168.518742842026\n",
      "Árbol  5 tiene un rmse:  2113.8811455834793\n",
      "Árbol  6 tiene un rmse:  2127.933470769012\n",
      "Árbol  7 tiene un rmse:  2184.414847251443\n",
      "Árbol  8 tiene un rmse:  2138.1071697514985\n",
      "Árbol  9 tiene un rmse:  2132.097520859104\n"
     ]
    }
   ],
   "source": [
    "# Desempeño de cada árbol\n",
    "for i in range(n_B):\n",
    "    print('Árbol ', i, 'tiene un rmse: ', np.sqrt(mean_squared_error(y_pred.iloc[:,i], y_test)))"
   ]
  },
  {
   "cell_type": "markdown",
   "metadata": {},
   "source": [
    "De los resultados del RMSE para cada árbol, se observa que los RMSE varían entre aproximadamente 2087 y 2184, lo que indica variabilidad en el rendimiento de los árboles individuales."
   ]
  },
  {
   "cell_type": "code",
   "execution_count": 15,
   "metadata": {},
   "outputs": [
    {
     "data": {
      "text/plain": [
       "257343    13767.4\n",
       "326011     6243.1\n",
       "242354    16694.3\n",
       "266376    20865.3\n",
       "396954    16468.1\n",
       "           ...   \n",
       "144298    14498.9\n",
       "364521    16109.0\n",
       "120072    21076.5\n",
       "99878     12782.0\n",
       "387162    11957.4\n",
       "Length: 3464, dtype: object"
      ]
     },
     "execution_count": 15,
     "metadata": {},
     "output_type": "execute_result"
    }
   ],
   "source": [
    "# Predicciones promedio para cada observación del set de test\n",
    "y_pred.mean(axis=1)"
   ]
  },
  {
   "cell_type": "code",
   "execution_count": 16,
   "metadata": {},
   "outputs": [
    {
     "data": {
      "text/plain": [
       "1796.4355868399332"
      ]
     },
     "execution_count": 16,
     "metadata": {},
     "output_type": "execute_result"
    }
   ],
   "source": [
    "# Error al promediar las predicciones de todos los árboles\n",
    "rmse2=np.sqrt(mean_squared_error(y_test, y_pred.mean(axis=1)))\n",
    "rmse2"
   ]
  },
  {
   "cell_type": "markdown",
   "metadata": {},
   "source": [
    "Este valor representa la raíz del error cuadrático medio al promediar las predicciones de los 10 árboles de decisión entrenados con el método de bagging manual."
   ]
  },
  {
   "cell_type": "markdown",
   "metadata": {},
   "source": [
    "### Desempeño del modelo\n",
    "\n",
    "El modelo muestra un rmse razonablemente bajo (1796.4355868399332) debido a que se realizó el promedio de las predicciones, lo cual redujo sustancialmente el error. Esto se puede ver en los rmse individuales de cada árbol, que son considerablemente más altos que el promedio de la predicción que se obtuvo"
   ]
  },
  {
   "cell_type": "markdown",
   "metadata": {},
   "source": [
    "### Punto 3 - Bagging con librería\n",
    "\n",
    "En la celda 3, con la librería sklearn, entrenen un modelo bagging con 10 árboles de regresión y el parámetro `max_features` igual a `log(n_features)` y comenten sobre el desempeño del modelo.\n",
    "\n",
    "A continuación se presenta un código que utiliza la librería sklearn para crear un modelo de Bagging con 10 árboles de regresión. El parámetro max_features se establece en 'log2', lo que significa que se utilizará el logaritmo base 2 del número de características como el número máximo de características a considerar al dividir cada nodo. Luego, se entrena el modelo con los datos de entrenamiento y se realiza la predicción sobre el conjunto de test. Finalmente, se calcula el RMSE para evaluar el desempeño del modelo.\n",
    "\n",
    "Este enfoque de Bagging puede mejorar el desempeño del modelo al reducir la varianza y aumentar la estabilidad de las predicciones."
   ]
  },
  {
   "cell_type": "code",
   "execution_count": 17,
   "metadata": {},
   "outputs": [],
   "source": [
    "# Celda 3\n",
    "# Uso de BaggingRegressor de la libreria (sklearn) donde se usa el modelo DecisionTreeRegressor como estimador\n",
    "from sklearn.ensemble import BaggingRegressor\n",
    "bagreg = BaggingRegressor(DecisionTreeRegressor(), n_estimators=10, max_features = int(np.log2(X_train.shape[1])), \n",
    "                          bootstrap=True, oob_score=True, random_state=1) "
   ]
  },
  {
   "cell_type": "code",
   "execution_count": 18,
   "metadata": {},
   "outputs": [
    {
     "data": {
      "text/plain": [
       "array([13309.89587219,  9138.51654839, 15467.76614712, ...,\n",
       "       16888.87303032, 12288.17584423, 12528.3760518 ])"
      ]
     },
     "execution_count": 18,
     "metadata": {},
     "output_type": "execute_result"
    }
   ],
   "source": [
    "# Entrenemiento del modelo con set de entrenamiento y predicción en el set de test\n",
    "bagreg.fit(X_train, y_train)\n",
    "y_pred = bagreg.predict(X_test)\n",
    "y_pred"
   ]
  },
  {
   "cell_type": "code",
   "execution_count": 19,
   "metadata": {
    "scrolled": true
   },
   "outputs": [
    {
     "data": {
      "text/plain": [
       "2046.1690019550203"
      ]
     },
     "execution_count": 19,
     "metadata": {},
     "output_type": "execute_result"
    }
   ],
   "source": [
    "# Cálculo del error del modelo\n",
    "rmse3=np.sqrt(mean_squared_error(y_test, y_pred))\n",
    "rmse3"
   ]
  },
  {
   "cell_type": "markdown",
   "metadata": {},
   "source": [
    "### Desempeño del modelo\n",
    "\n",
    "Se puede ver que el rmse es bastante alto (2046.1690019550203), por lo que este modelo bagging con la librería presenta un error superior al que se obtuvo cuando se realizó de forma manual, esto prbablemente debido a que no se calibró ningún parámetro fuera del número de árboles."
   ]
  },
  {
   "cell_type": "markdown",
   "metadata": {},
   "source": [
    "### Punto 4 - Random forest con librería\n",
    "\n",
    "En la celda 4, usando la librería sklearn entrenen un modelo de Randon Forest para regresión  y comenten sobre el desempeño del modelo."
   ]
  },
  {
   "cell_type": "code",
   "execution_count": 20,
   "metadata": {},
   "outputs": [
    {
     "name": "stdout",
     "output_type": "stream",
     "text": [
      "El error cuadrático medio (RMSE) del modelo Random Forest es: 1851.7586150763248\n"
     ]
    }
   ],
   "source": [
    "# Celda 4\n",
    "# Crea un modelo de Random Forest para regresión\n",
    "from sklearn.ensemble import RandomForestRegressor\n",
    "rf_model = RandomForestRegressor(n_estimators=100, max_features='sqrt', random_state=42)\n",
    "\n",
    "# Entrena el modelo Random Forest\n",
    "rf_model.fit(X_train, y_train)\n",
    "\n",
    "# Predice los valores de prueba\n",
    "y_pred = rf_model.predict(X_test)\n",
    "\n",
    "# Calcula y muestra el error cuadrático medio (RMSE)\n",
    "rmse4 = np.sqrt(mean_squared_error(y_test, y_pred))\n",
    "print(f\"El error cuadrático medio (RMSE) del modelo Random Forest es: {rmse4}\")"
   ]
  },
  {
   "cell_type": "markdown",
   "metadata": {},
   "source": [
    "Esto indica la raíz cuadrada de la media de los errores al cuadrado entre las predicciones del modelo y los valores reales en los datos de prueba. "
   ]
  },
  {
   "cell_type": "markdown",
   "metadata": {},
   "source": [
    "### Desempeño del modelo\n",
    "\n",
    "El resultado muestra un buen desempeño inicial con un rmse de 1851.7586150763248, sin embargo en este caso no se ajustaron los parámetros"
   ]
  },
  {
   "cell_type": "markdown",
   "metadata": {},
   "source": [
    "### Punto 5 - Calibración de parámetros Random forest\n",
    "\n",
    "En la celda 5, calibren los parámetros max_depth, max_features y n_estimators del modelo de Randon Forest para regresión, comenten sobre el desempeño del modelo y describan cómo cada parámetro afecta el desempeño del modelo.\n",
    "\n",
    "Se realiza la calibración del parámetro n_estimators del modelo de Random Forest utilizando validación cruzada de 5 pliegues. Este enfoque permite explorar cómo varía el rendimiento del modelo de Random Forest en función del número de estimadores utilizados, lo que nos brinda información sobre cómo este parámetro afecta el desempeño del modelo"
   ]
  },
  {
   "cell_type": "code",
   "execution_count": 21,
   "metadata": {},
   "outputs": [
    {
     "name": "stdout",
     "output_type": "stream",
     "text": [
      "n_estimators=10, RMSE promedio=1753440.0535978235\n",
      "n_estimators=20, RMSE promedio=1690908.7349468402\n",
      "n_estimators=30, RMSE promedio=1673459.6470367773\n",
      "n_estimators=40, RMSE promedio=1666120.4512228211\n",
      "n_estimators=50, RMSE promedio=1658122.2310682123\n",
      "n_estimators=60, RMSE promedio=1651109.237987476\n",
      "n_estimators=70, RMSE promedio=1653049.0580294302\n",
      "n_estimators=80, RMSE promedio=1651613.1748559787\n",
      "n_estimators=90, RMSE promedio=1650487.3282019016\n",
      "n_estimators=100, RMSE promedio=1650691.5804845374\n",
      "n_estimators=110, RMSE promedio=1646312.2998038959\n",
      "n_estimators=120, RMSE promedio=1644795.4282150161\n",
      "n_estimators=130, RMSE promedio=1644786.346275979\n",
      "n_estimators=140, RMSE promedio=1644184.1578125686\n",
      "n_estimators=150, RMSE promedio=1643554.918457784\n",
      "n_estimators=160, RMSE promedio=1641453.7051779665\n",
      "n_estimators=170, RMSE promedio=1639993.4317227178\n",
      "n_estimators=180, RMSE promedio=1640545.547138859\n",
      "n_estimators=190, RMSE promedio=1640786.65013604\n",
      "n_estimators=200, RMSE promedio=1641804.6309019441\n",
      "n_estimators=210, RMSE promedio=1643060.550071252\n",
      "n_estimators=220, RMSE promedio=1642133.9872196629\n",
      "n_estimators=230, RMSE promedio=1642070.0939570435\n",
      "n_estimators=240, RMSE promedio=1642550.4553046967\n",
      "n_estimators=250, RMSE promedio=1641810.8680176376\n",
      "n_estimators=260, RMSE promedio=1639994.3628817194\n",
      "n_estimators=270, RMSE promedio=1640815.7988230567\n",
      "n_estimators=280, RMSE promedio=1640391.8821194903\n",
      "n_estimators=290, RMSE promedio=1639739.403991272\n",
      "n_estimators=300, RMSE promedio=1639985.7422461838\n"
     ]
    }
   ],
   "source": [
    "# Celda 5\n",
    "# Creación de lista de valores para iterar sobre diferentes valores de n_estimators\n",
    "estimator_range = range(10, 310, 10)\n",
    "\n",
    "# Definición de lista para almacenar el error cuadrático medio (RMSE) promedio para cada valor de n_estimators\n",
    "rmse_scores = []\n",
    "\n",
    "# Uso de un 5-fold cross-validation para cada valor de n_estimators\n",
    "for estimator in estimator_range:\n",
    "    rf_reg = RandomForestRegressor(n_estimators=estimator, random_state=1, n_jobs=-1)\n",
    "    rmse_scores.append(-1 * cross_val_score(rf_reg, X_train, y_train, cv=5, scoring='neg_mean_squared_error').mean())\n",
    "\n",
    "# Imprimir los resultados\n",
    "for i, estimator in enumerate(estimator_range):\n",
    "    print(f\"n_estimators={estimator}, RMSE promedio={rmse_scores[i]}\")\n"
   ]
  },
  {
   "cell_type": "markdown",
   "metadata": {},
   "source": [
    "Estos resultados muestran cómo varía el error cuadrático medio (RMSE) promedio del modelo de Random Forest a medida que cambia el número de estimadores (`n_estimators`). \n",
    "\n",
    "- Con un número más bajo de estimadores (10-50), el RMSE promedio disminuye a medida que aumenta el número de estimadores. \n",
    "\n",
    "- A partir de alrededor de 50 estimadores, el RMSE promedio alcanza un punto de estabilización, donde las mejoras en la precisión del modelo son menos significativas a medida que se agregan más estimadores. Esto significa que, después de cierto punto, agregar más estimadores no reduce el error.\n",
    "\n",
    "- En general, el RMSE promedio parece estabilizarse alrededor de 1640000 después de aproximadamente 100 estimadores, con fluctuaciones menores en torno a este valor a medida que se incrementa el número de estimadores.\n",
    "\n",
    "Por tanto, un número adecuado de estimadores para este conjunto de datos y modelo específico podría ser alrededor de 100, ya que proporciona un equilibrio entre el rendimiento del modelo y el costo computacional asociado con un mayor número de estimadores. Sin embargo, sería recomendable realizar más experimentos para confirmar este hallazgo y evaluar cómo otros parámetros también pueden influir en el desempeño del modelo.\n",
    "\n",
    "La gráfica siguiente permite observar de manera más clara cómo cambia el rendimiento del modelo a medida que varía el número de estimadores:"
   ]
  },
  {
   "cell_type": "code",
   "execution_count": 22,
   "metadata": {},
   "outputs": [
    {
     "data": {
      "text/plain": [
       "Text(0, 0.5, 'RMSE')"
      ]
     },
     "execution_count": 22,
     "metadata": {},
     "output_type": "execute_result"
    },
    {
     "data": {
      "image/png": "[encoded data removed]",
      "text/plain": [
       "<Figure size 432x288 with 1 Axes>"
      ]
     },
     "metadata": {},
     "output_type": "display_data"
    }
   ],
   "source": [
    "# Gráfica del desempeño del modelo vs la cantidad de n_estimators\n",
    "plt.plot(estimator_range, rmse_scores)\n",
    "plt.xlabel('n_estimators')\n",
    "plt.ylabel('RMSE')"
   ]
  },
  {
   "cell_type": "code",
   "execution_count": 23,
   "metadata": {},
   "outputs": [
    {
     "data": {
      "text/plain": [
       "Index(['Year', 'Mileage', 'M_Camry', 'M_Camry4dr', 'M_CamryBase', 'M_CamryL',\n",
       "       'M_CamryLE', 'M_CamrySE', 'M_CamryXLE'],\n",
       "      dtype='object')"
      ]
     },
     "execution_count": 23,
     "metadata": {},
     "output_type": "execute_result"
    }
   ],
   "source": [
    "# Selección de variables predictoras\n",
    "feature_cols = data.columns.drop('Price')\n",
    "feature_cols"
   ]
  },
  {
   "cell_type": "code",
   "execution_count": 24,
   "metadata": {},
   "outputs": [
    {
     "name": "stdout",
     "output_type": "stream",
     "text": [
      "max_features=1, RMSE promedio=3148938.0323840585\n",
      "max_features=2, RMSE promedio=3145117.637486185\n",
      "max_features=3, RMSE promedio=3138337.6910122894\n",
      "max_features=4, RMSE promedio=3129405.3376870514\n",
      "max_features=5, RMSE promedio=3117891.8429228505\n",
      "max_features=6, RMSE promedio=3102334.617047836\n",
      "max_features=7, RMSE promedio=3081747.559322607\n",
      "max_features=8, RMSE promedio=3061939.6844476378\n",
      "max_features=9, RMSE promedio=3044331.0353967506\n"
     ]
    }
   ],
   "source": [
    "# Creación de lista de valores para iterar sobre diferentes valores de max_features\n",
    "feature_range = range(1, len(feature_cols) + 1)\n",
    "\n",
    "# Definición de lista para almacenar el error cuadrático medio (RMSE) promedio para cada valor de max_features\n",
    "rmse_scores = []\n",
    "\n",
    "# Uso de un 10-fold cross-validation para cada valor de max_features\n",
    "for feature in feature_range:\n",
    "    rf_reg = RandomForestRegressor(n_estimators=290, max_features=feature, random_state=1, n_jobs=-1)\n",
    "    rmse_scores.append(-1 * cross_val_score(rf_reg, X, y, cv=10, scoring='neg_mean_squared_error').mean())\n",
    "\n",
    "# Imprimir los resultados\n",
    "for i, feature in enumerate(feature_range):\n",
    "    print(f\"max_features={feature}, RMSE promedio={rmse_scores[i]}\")\n"
   ]
  },
  {
   "cell_type": "markdown",
   "metadata": {},
   "source": [
    "Estos resultados muestran cómo varía el error cuadrático medio (RMSE) promedio del modelo de Random Forest en función del parámetro `max_features`, que representa el número máximo de características consideradas para dividir un nodo. \n",
    "\n",
    "La siguiente gráfica permite visualizar cómo cambia el rendimiento del modelo a medida que varía la cantidad de características consideradas para dividir un nodo."
   ]
  },
  {
   "cell_type": "code",
   "execution_count": 25,
   "metadata": {
    "scrolled": true
   },
   "outputs": [
    {
     "data": {
      "text/plain": [
       "Text(0, 0.5, 'RMSE')"
      ]
     },
     "execution_count": 25,
     "metadata": {},
     "output_type": "execute_result"
    },
    {
     "data": {
      "image/png": "[encoded data removed]",
      "text/plain": [
       "<Figure size 432x288 with 1 Axes>"
      ]
     },
     "metadata": {},
     "output_type": "display_data"
    }
   ],
   "source": [
    "# Gráfica del desempeño del modelo vs la cantidad de max_features\n",
    "plt.plot(feature_range, rmse_scores)\n",
    "plt.xlabel('max_features')\n",
    "plt.ylabel('RMSE')"
   ]
  },
  {
   "cell_type": "markdown",
   "metadata": {},
   "source": [
    "El siguiente código permite ver qué características son las más importantes para el modelo de Random Forest en términos de su contribución a la predicción:"
   ]
  },
  {
   "cell_type": "code",
   "execution_count": 26,
   "metadata": {},
   "outputs": [
    {
     "name": "stdout",
     "output_type": "stream",
     "text": [
      "       feature  importance\n",
      "1      Mileage    0.507278\n",
      "0         Year    0.387908\n",
      "3   M_Camry4dr    0.051171\n",
      "8   M_CamryXLE    0.017414\n",
      "7    M_CamrySE    0.016900\n",
      "6    M_CamryLE    0.007295\n",
      "2      M_Camry    0.007065\n",
      "5     M_CamryL    0.002920\n",
      "4  M_CamryBase    0.002048\n"
     ]
    }
   ],
   "source": [
    "feature_importance_df=pd.DataFrame({'feature':feature_cols,'importance':rf_model.feature_importances_})\n",
    "feature_importance_df=feature_importance_df.sort_values('importance', ascending=False)\n",
    "print(feature_importance_df)"
   ]
  },
  {
   "cell_type": "markdown",
   "metadata": {},
   "source": [
    "Las dos características que tienen el mayor impacto en la predicción del precio del automóvil según el modelo son 'Mileage' (millaje) y 'Year' (año).\n",
    "\n",
    "Ahora, se ajusta el parámetro max_depth del modelo de Random Forest y se evalúa su impacto en el rendimiento utilizando validación cruzada de 10 pliegues:"
   ]
  },
  {
   "cell_type": "code",
   "execution_count": 27,
   "metadata": {},
   "outputs": [
    {
     "name": "stdout",
     "output_type": "stream",
     "text": [
      "max_depth=1, RMSE promedio=6535277.2727508\n",
      "max_depth=2, RMSE promedio=4221238.958422023\n",
      "max_depth=3, RMSE promedio=3368182.5409630984\n",
      "max_depth=4, RMSE promedio=2882017.9153422923\n",
      "max_depth=5, RMSE promedio=2603674.9735049363\n",
      "max_depth=6, RMSE promedio=2452884.0619794866\n",
      "max_depth=7, RMSE promedio=2370611.159913721\n",
      "max_depth=8, RMSE promedio=2344615.2401487483\n",
      "max_depth=9, RMSE promedio=2354950.7108524693\n",
      "max_depth=10, RMSE promedio=2389225.7920586327\n",
      "max_depth=11, RMSE promedio=2436943.0904119625\n",
      "max_depth=12, RMSE promedio=2496050.8857918484\n",
      "max_depth=13, RMSE promedio=2561020.190119169\n",
      "max_depth=14, RMSE promedio=2629159.881488559\n"
     ]
    }
   ],
   "source": [
    "# Creación de lista de valores para iterar sobre diferentes valores de max_features\n",
    "feature_range = range(1, 15)\n",
    "\n",
    "# Definición de lista para almacenar el error cuadrático medio (RMSE) promedio para cada valor de max_features\n",
    "rmse_scores = []\n",
    "\n",
    "# Uso de un 10-fold cross-validation para cada valor de max_features\n",
    "for feature in feature_range:\n",
    "    rf_reg = RandomForestRegressor(n_estimators=290, max_features=9, max_depth=feature, random_state=1, n_jobs=-1)\n",
    "    rmse_scores.append(-1 * cross_val_score(rf_reg, X, y, cv=10, scoring='neg_mean_squared_error').mean())\n",
    "\n",
    "# Imprimir los resultados\n",
    "for i, feature in enumerate(feature_range):\n",
    "    print(f\"max_depth={feature}, RMSE promedio={rmse_scores[i]}\")\n"
   ]
  },
  {
   "cell_type": "markdown",
   "metadata": {},
   "source": [
    "Los resultados muestran cómo varía el error cuadrático medio (RMSE) promedio del modelo de Random Forest en función del parámetro `max_depth`, que representa la profundidad máxima de los árboles en el bosque.\n",
    "\n",
    "Se observa que, a medida que aumenta el valor de `max_depth`, el RMSE promedio disminuye, sin embargo, después de que  `max_depth=7`, el RMSE promedio comienza a aumentar nuevamente. Esto indica que permitir una profundidad excesiva puede conducir a un sobreajuste del modelo, donde el modelo se ajusta demasiado a los datos de entrenamiento y tiene dificultades para generalizar a nuevos datos. En este caso, el valor más bajo de RMSE promedio se encuentra cuando `max_depth=8`, luego, es en este valor donde se tiene un equilibrio entre la capacidad predictiva del modelo y la prevención del sobreajuste.\n",
    "\n",
    " continuación se presenta una gráfica que permite visualizar cómo cambia el rendimiento del modelo a medida que varía la profundidad máxima de los árboles en el bosque:"
   ]
  },
  {
   "cell_type": "code",
   "execution_count": 28,
   "metadata": {},
   "outputs": [
    {
     "data": {
      "text/plain": [
       "Text(0, 0.5, 'RMSE')"
      ]
     },
     "execution_count": 28,
     "metadata": {},
     "output_type": "execute_result"
    },
    {
     "data": {
      "image/png": "[encoded data removed]",
      "text/plain": [
       "<Figure size 432x288 with 1 Axes>"
      ]
     },
     "metadata": {},
     "output_type": "display_data"
    }
   ],
   "source": [
    "# Gráfica del desempeño del modelo vs la cantidad de max_features\n",
    "plt.plot(feature_range, rmse_scores)\n",
    "plt.xlabel('max_depth')\n",
    "plt.ylabel('RMSE')"
   ]
  },
  {
   "cell_type": "markdown",
   "metadata": {},
   "source": [
    "El siguiente código proporciona el RMSE del modelo de Random Forest con los mejores parámetros encontrados, lo cual, permite evaluar su desempeño en los datos de prueba."
   ]
  },
  {
   "cell_type": "code",
   "execution_count": 29,
   "metadata": {},
   "outputs": [
    {
     "name": "stdout",
     "output_type": "stream",
     "text": [
      "El error cuadrático medio (RMSE) del modelo Random Forest con los mejores parametros es: 1588.8822\n"
     ]
    }
   ],
   "source": [
    "rf_model = RandomForestRegressor(n_estimators=290, max_features=9, max_depth=8, random_state=42)\n",
    "\n",
    "# Entrena el modelo Random Forest\n",
    "rf_model.fit(X_train, y_train)\n",
    "\n",
    "# Predice los valores de prueba\n",
    "y_pred = rf_model.predict(X_test)\n",
    "\n",
    "# Calcula y muestra el error cuadrático medio (RMSE)\n",
    "rmse5 = np.sqrt(mean_squared_error(y_test, y_pred))\n",
    "print(f\"El error cuadrático medio (RMSE) del modelo Random Forest con los mejores parametros es: {rmse5:.4f}\")"
   ]
  },
  {
   "cell_type": "markdown",
   "metadata": {},
   "source": [
    "### Desempeño del modelo y análisis de parámetros\n",
    "\n",
    "Al realizar una calibración de los parámetros max_depth, max_features y n_estimators se pudo ver una mejora consireable en el desempeño del modelo, ya que el rmse se redujo hasta 1588.5773, lo cual es el mejor desempeño obtenido hasta el momento. \n",
    "\n",
    "La forma en la que cada parámetro afecta el desempeño del modelo es la siguiente:\n",
    "\n",
    "n_estimators: Aumentar el numero de árboles mejora el desempeño del modelo hasta cierto punto hasta llegar a un maximo que no reduce mas el error.\n",
    "\n",
    "max_depth: Es la profundidad maxima de cada árbol. Si es un valor muy bajo hace el modelo demasiado simple y lleva al subajuste, mientras que un valor muy alto puede llevar al overfitting ya que el modelo sería muy complejo. Es por esto que se debe encontrar un valor medio que de el error mas bajo.\n",
    "\n",
    "max_features: Son el número máximo de características consideradas. Un valor bajo tiende a aumentar la diversidad entre los árboles de modo que el desempeño mejore y se evite el sobreajuste. Un valor alto puede aumentar el riesgo a sobreajuste\n"
   ]
  },
  {
   "cell_type": "markdown",
   "metadata": {},
   "source": [
    "### Punto 6 - XGBoost con librería\n",
    "\n",
    "En la celda 6 implementen un modelo XGBoost de regresión con la librería sklearn y comenten sobre el desempeño del modelo."
   ]
  },
  {
   "cell_type": "code",
   "execution_count": 30,
   "metadata": {},
   "outputs": [
    {
     "name": "stdout",
     "output_type": "stream",
     "text": [
      "Collecting xgboost\n",
      "  Downloading xgboost-2.0.3-py3-none-win_amd64.whl.metadata (2.0 kB)\n",
      "Requirement already satisfied: numpy in c:\\users\\lorena\\anaconda3\\lib\\site-packages (from xgboost) (1.26.4)\n",
      "Requirement already satisfied: scipy in c:\\users\\lorena\\anaconda3\\lib\\site-packages (from xgboost) (1.11.4)\n",
      "Downloading xgboost-2.0.3-py3-none-win_amd64.whl (99.8 MB)\n",
      "   ---------------------------------------- 0.0/99.8 MB ? eta -:--:--\n",
      "   ---------------------------------------- 0.0/99.8 MB ? eta -:--:--\n",
      "   ---------------------------------------- 0.0/99.8 MB ? eta -:--:--\n",
      "   ---------------------------------------- 0.0/99.8 MB 325.1 kB/s eta 0:05:07\n",
      "   ---------------------------------------- 0.1/99.8 MB 573.4 kB/s eta 0:02:54\n",
      "   ---------------------------------------- 0.5/99.8 MB 2.9 MB/s eta 0:00:35\n",
      "    --------------------------------------- 2.1/99.8 MB 9.1 MB/s eta 0:00:11\n",
      "   - -------------------------------------- 3.5/99.8 MB 12.5 MB/s eta 0:00:08\n",
      "   - -------------------------------------- 4.0/99.8 MB 12.1 MB/s eta 0:00:08\n",
      "   - -------------------------------------- 4.9/99.8 MB 13.1 MB/s eta 0:00:08\n",
      "   -- ------------------------------------- 6.4/99.8 MB 15.2 MB/s eta 0:00:07\n",
      "   --- ------------------------------------ 7.8/99.8 MB 16.6 MB/s eta 0:00:06\n",
      "   --- ------------------------------------ 9.2/99.8 MB 17.8 MB/s eta 0:00:06\n",
      "   ---- ----------------------------------- 10.5/99.8 MB 25.1 MB/s eta 0:00:04\n",
      "   ---- ----------------------------------- 11.8/99.8 MB 25.2 MB/s eta 0:00:04\n",
      "   ----- ---------------------------------- 13.0/99.8 MB 26.2 MB/s eta 0:00:04\n",
      "   ----- ---------------------------------- 14.3/99.8 MB 28.5 MB/s eta 0:00:03\n",
      "   ------ --------------------------------- 15.7/99.8 MB 28.5 MB/s eta 0:00:03\n",
      "   ------ --------------------------------- 17.0/99.8 MB 28.5 MB/s eta 0:00:03\n",
      "   ------ --------------------------------- 17.3/99.8 MB 26.2 MB/s eta 0:00:04\n",
      "   ------- -------------------------------- 18.0/99.8 MB 24.2 MB/s eta 0:00:04\n",
      "   ------- -------------------------------- 19.7/99.8 MB 25.1 MB/s eta 0:00:04\n",
      "   -------- ------------------------------- 21.0/99.8 MB 25.2 MB/s eta 0:00:04\n",
      "   --------- ------------------------------ 22.7/99.8 MB 25.2 MB/s eta 0:00:04\n",
      "   --------- ------------------------------ 23.3/99.8 MB 24.2 MB/s eta 0:00:04\n",
      "   --------- ------------------------------ 24.7/99.8 MB 25.2 MB/s eta 0:00:03\n",
      "   ---------- ----------------------------- 26.2/99.8 MB 25.2 MB/s eta 0:00:03\n",
      "   ----------- ---------------------------- 27.6/99.8 MB 28.4 MB/s eta 0:00:03\n",
      "   ----------- ---------------------------- 29.0/99.8 MB 29.7 MB/s eta 0:00:03\n",
      "   ----------- ---------------------------- 29.6/99.8 MB 26.2 MB/s eta 0:00:03\n",
      "   ------------ --------------------------- 31.0/99.8 MB 27.3 MB/s eta 0:00:03\n",
      "   ------------ --------------------------- 32.4/99.8 MB 26.2 MB/s eta 0:00:03\n",
      "   ------------- -------------------------- 33.2/99.8 MB 28.4 MB/s eta 0:00:03\n",
      "   ------------- -------------------------- 33.8/99.8 MB 26.2 MB/s eta 0:00:03\n",
      "   ------------- -------------------------- 34.4/99.8 MB 23.4 MB/s eta 0:00:03\n",
      "   -------------- ------------------------- 35.6/99.8 MB 22.6 MB/s eta 0:00:03\n",
      "   -------------- ------------------------- 37.0/99.8 MB 22.6 MB/s eta 0:00:03\n",
      "   --------------- ------------------------ 38.0/99.8 MB 22.5 MB/s eta 0:00:03\n",
      "   --------------- ------------------------ 38.2/99.8 MB 21.8 MB/s eta 0:00:03\n",
      "   --------------- ------------------------ 39.6/99.8 MB 21.9 MB/s eta 0:00:03\n",
      "   ---------------- ----------------------- 40.8/99.8 MB 21.1 MB/s eta 0:00:03\n",
      "   ---------------- ----------------------- 41.6/99.8 MB 21.8 MB/s eta 0:00:03\n",
      "   ---------------- ----------------------- 41.8/99.8 MB 18.7 MB/s eta 0:00:04\n",
      "   ---------------- ----------------------- 42.2/99.8 MB 17.7 MB/s eta 0:00:04\n",
      "   ----------------- ---------------------- 43.4/99.8 MB 17.7 MB/s eta 0:00:04\n",
      "   ----------------- ---------------------- 44.8/99.8 MB 20.5 MB/s eta 0:00:03\n",
      "   ------------------ --------------------- 45.7/99.8 MB 19.9 MB/s eta 0:00:03\n",
      "   ------------------ --------------------- 47.0/99.8 MB 20.5 MB/s eta 0:00:03\n",
      "   ------------------- -------------------- 47.8/99.8 MB 19.3 MB/s eta 0:00:03\n",
      "   ------------------- -------------------- 48.9/99.8 MB 20.5 MB/s eta 0:00:03\n",
      "   -------------------- ------------------- 50.4/99.8 MB 21.1 MB/s eta 0:00:03\n",
      "   -------------------- ------------------- 51.9/99.8 MB 24.2 MB/s eta 0:00:02\n",
      "   --------------------- ------------------ 53.3/99.8 MB 26.2 MB/s eta 0:00:02\n",
      "   --------------------- ------------------ 53.9/99.8 MB 25.2 MB/s eta 0:00:02\n",
      "   --------------------- ------------------ 54.7/99.8 MB 23.4 MB/s eta 0:00:02\n",
      "   ---------------------- ----------------- 55.3/99.8 MB 24.2 MB/s eta 0:00:02\n",
      "   ---------------------- ----------------- 55.8/99.8 MB 21.1 MB/s eta 0:00:03\n",
      "   ---------------------- ----------------- 57.0/99.8 MB 21.1 MB/s eta 0:00:03\n",
      "   ----------------------- ---------------- 58.3/99.8 MB 22.6 MB/s eta 0:00:02\n",
      "   ----------------------- ---------------- 59.6/99.8 MB 22.6 MB/s eta 0:00:02\n",
      "   ------------------------ --------------- 60.8/99.8 MB 21.8 MB/s eta 0:00:02\n",
      "   ------------------------ --------------- 61.9/99.8 MB 21.8 MB/s eta 0:00:02\n",
      "   ------------------------- -------------- 63.0/99.8 MB 21.1 MB/s eta 0:00:02\n",
      "   ------------------------- -------------- 64.2/99.8 MB 22.6 MB/s eta 0:00:02\n",
      "   -------------------------- ------------- 65.0/99.8 MB 21.8 MB/s eta 0:00:02\n",
      "   -------------------------- ------------- 66.4/99.8 MB 25.2 MB/s eta 0:00:02\n",
      "   -------------------------- ------------- 67.3/99.8 MB 25.2 MB/s eta 0:00:02\n",
      "   --------------------------- ------------ 68.5/99.8 MB 24.2 MB/s eta 0:00:02\n",
      "   --------------------------- ------------ 69.6/99.8 MB 23.4 MB/s eta 0:00:02\n",
      "   ---------------------------- ----------- 70.8/99.8 MB 23.4 MB/s eta 0:00:02\n",
      "   ---------------------------- ----------- 71.8/99.8 MB 23.4 MB/s eta 0:00:02\n",
      "   ----------------------------- ---------- 73.1/99.8 MB 24.2 MB/s eta 0:00:02\n",
      "   ----------------------------- ---------- 74.2/99.8 MB 23.4 MB/s eta 0:00:02\n",
      "   ------------------------------ --------- 75.3/99.8 MB 24.2 MB/s eta 0:00:02\n",
      "   ------------------------------ --------- 76.5/99.8 MB 25.2 MB/s eta 0:00:01\n",
      "   ------------------------------- -------- 77.5/99.8 MB 24.2 MB/s eta 0:00:01\n",
      "   ------------------------------- -------- 78.6/99.8 MB 23.4 MB/s eta 0:00:01\n",
      "   ------------------------------- -------- 79.6/99.8 MB 23.4 MB/s eta 0:00:01\n",
      "   -------------------------------- ------- 80.8/99.8 MB 23.4 MB/s eta 0:00:01\n",
      "   -------------------------------- ------- 81.8/99.8 MB 23.4 MB/s eta 0:00:01\n",
      "   --------------------------------- ------ 82.8/99.8 MB 23.4 MB/s eta 0:00:01\n",
      "   --------------------------------- ------ 83.6/99.8 MB 22.6 MB/s eta 0:00:01\n",
      "   --------------------------------- ------ 84.7/99.8 MB 22.6 MB/s eta 0:00:01\n",
      "   ---------------------------------- ----- 85.7/99.8 MB 21.8 MB/s eta 0:00:01\n",
      "   ---------------------------------- ----- 86.8/99.8 MB 21.8 MB/s eta 0:00:01\n",
      "   ----------------------------------- ---- 88.0/99.8 MB 21.8 MB/s eta 0:00:01\n",
      "   ----------------------------------- ---- 88.8/99.8 MB 21.9 MB/s eta 0:00:01\n",
      "   ------------------------------------ --- 89.8/99.8 MB 21.9 MB/s eta 0:00:01\n",
      "   ------------------------------------ --- 90.5/99.8 MB 21.1 MB/s eta 0:00:01\n",
      "   ------------------------------------ --- 91.6/99.8 MB 21.1 MB/s eta 0:00:01\n",
      "   ------------------------------------- -- 92.5/99.8 MB 20.5 MB/s eta 0:00:01\n",
      "   ------------------------------------- -- 93.4/99.8 MB 21.1 MB/s eta 0:00:01\n",
      "   ------------------------------------- -- 93.9/99.8 MB 19.8 MB/s eta 0:00:01\n",
      "   -------------------------------------- - 95.1/99.8 MB 19.8 MB/s eta 0:00:01\n",
      "   -------------------------------------- - 96.0/99.8 MB 19.9 MB/s eta 0:00:01\n",
      "   -------------------------------------- - 97.2/99.8 MB 19.9 MB/s eta 0:00:01\n",
      "   ---------------------------------------  97.3/99.8 MB 19.9 MB/s eta 0:00:01\n",
      "   ---------------------------------------  98.3/99.8 MB 18.2 MB/s eta 0:00:01\n",
      "   ---------------------------------------  99.7/99.8 MB 19.3 MB/s eta 0:00:01\n",
      "   ---------------------------------------  99.7/99.8 MB 19.3 MB/s eta 0:00:01\n",
      "   ---------------------------------------  99.7/99.8 MB 19.3 MB/s eta 0:00:01\n",
      "   ---------------------------------------  99.7/99.8 MB 19.3 MB/s eta 0:00:01\n",
      "   ---------------------------------------  99.7/99.8 MB 19.3 MB/s eta 0:00:01\n",
      "   ---------------------------------------  99.7/99.8 MB 19.3 MB/s eta 0:00:01\n",
      "   ---------------------------------------  99.7/99.8 MB 19.3 MB/s eta 0:00:01\n",
      "   ---------------------------------------  99.7/99.8 MB 19.3 MB/s eta 0:00:01\n",
      "   ---------------------------------------  99.7/99.8 MB 19.3 MB/s eta 0:00:01\n",
      "   ---------------------------------------- 99.8/99.8 MB 11.1 MB/s eta 0:00:00\n",
      "Installing collected packages: xgboost\n",
      "Successfully installed xgboost-2.0.3\n",
      "El error cuadrático medio (RMSE) del modelo XGBoost es: 1653.368885851116\n"
     ]
    }
   ],
   "source": [
    "# Celda 6\n",
    "!pip install xgboost\n",
    "from xgboost import XGBRegressor\n",
    "\n",
    "# Crear un modelo de XGBRegressor con los parámetros deseados\n",
    "xgb_reg = XGBRegressor()\n",
    "xgb_reg.fit(X_train, y_train)\n",
    "\n",
    "# Predicción usando el modelo entrenado\n",
    "y_pred = xgb_reg.predict(X_test)\n",
    "\n",
    "# Calcular y mostrar el error cuadrático medio (RMSE)\n",
    "rmse6 = np.sqrt(mean_squared_error(y_test, y_pred))\n",
    "print(f\"El error cuadrático medio (RMSE) del modelo XGBoost es: {rmse6}\")"
   ]
  },
  {
   "cell_type": "markdown",
   "metadata": {},
   "source": [
    "### Desempeño del modelo\n",
    "\n",
    "Se puede ver que con el modelo XGBoost con librería se obtiene un rmse de 1653.368885851116, un valor sorprendentemente bajo teniendo en cuenta que no se ha realizado aún la calibración de parámetros, lo que indica que el modelo tiene un buen rendimiento en la predicción de los precios de los automóviles en el conjunto de datos de prueba."
   ]
  },
  {
   "cell_type": "markdown",
   "metadata": {},
   "source": [
    "### Punto 7 - Calibración de parámetros XGBoost\n",
    "\n",
    "En la celda 7 calibren los parámetros learning rate, gamma y colsample_bytree del modelo XGBoost para regresión, comenten sobre el desempeño del modelo y describan cómo cada parámetro afecta el desempeño del modelo."
   ]
  },
  {
   "cell_type": "code",
   "execution_count": 31,
   "metadata": {},
   "outputs": [
    {
     "name": "stdout",
     "output_type": "stream",
     "text": [
      "Fitting 5 folds for each of 64 candidates, totalling 320 fits\n",
      "Mejores parametros: {'colsample_bytree': 0.8, 'gamma': 0, 'learning_rate': 0.1}\n",
      "RMSE en conjunto de prueba con los mejores parámetros: 1569.9506902534658\n"
     ]
    }
   ],
   "source": [
    "from sklearn.model_selection import train_test_split, GridSearchCV\n",
    "import xgboost as xgb\n",
    "\n",
    "modelo = xgb.XGBRegressor(objective='reg:squarederror')\n",
    "\n",
    "parametros = {\n",
    "    'learning_rate': [0.01, 0.02, 0.05, 0.1],\n",
    "    'colsample_bytree': [0.1, 0.3, 0.5, 0.8],\n",
    "    'gamma': [0, 0.1, 0.3, 0.5]\n",
    "\n",
    "}\n",
    "\n",
    "grid_search_xgb = GridSearchCV(estimator=modelo, param_grid=parametros, cv=5, scoring='neg_mean_squared_error', verbose=1, n_jobs=-1)\n",
    "\n",
    "grid_search_xgb.fit(X_train, y_train)\n",
    "\n",
    "print(\"Mejores parametros:\", grid_search_xgb.best_params_)\n",
    "\n",
    "mejor_modelo = grid_search_xgb.best_estimator_\n",
    "\n",
    "y_pred = mejor_modelo.predict(X_test)\n",
    "rmse7 = np.sqrt(mean_squared_error(y_test, y_pred))\n",
    "\n",
    "print(f\"RMSE en conjunto de prueba con los mejores parámetros: {rmse7}\")"
   ]
  },
  {
   "cell_type": "markdown",
   "metadata": {},
   "source": [
    "### Desempeño del modelo y análisis de parámetros\n",
    "\n",
    "Se puede apreciar que luego de la calibración de parámetros el desempeño del modelo aumentó, obteniendo un rmse de 1569.488870078393\n",
    "\n",
    "La forma en la que cada parámetro afecta el desempeño del modelo es la siguiente:\n",
    "\n",
    "learning_rate: Se trata de la tasa de aprendizaje. Cuando el valor es mas bajo el aprendizaje es mas lento, por lo que requiere un mayor número de árboles. Si el valor es muy alto hay un alto riesgo de sobreajuste. Se debe encontrar un valor que vaya de acuerdo al numero de árboles.\n",
    "\n",
    "colsample_bytree: Selecciona un subconjunto de caracteristicas para construir cada árbol. Un valor bajo aumenta la diversidad entre árboles, suele hacer el modelo mas robusto pero si hay muy pocas características lleva al subajuste. Un valor alto hace que cada árbol sea mas preciso, pero al reducir la variabilidad hay un mayor riesgo de sobreajuste.\n",
    "\n",
    "gamma: Tiene la función de controlar la regularización. Un valor bajo hará que los árboles sean mas complejos, incrementando el riesgo de sobreajuste. Un valor alto hace que los árboles sean mas simples y sirve para evitar el sobreajuste, sin embargo si es muy alto puede llevar a subajuste. Se debe buscar un valor medio."
   ]
  },
  {
   "cell_type": "markdown",
   "metadata": {},
   "source": [
    "### Punto 8 - Comparación y análisis de resultados\n",
    "En la celda 8 comparen los resultados obtenidos de los diferentes modelos (random forest y XGBoost) y comenten las ventajas del mejor modelo y las desventajas del modelo con el menor desempeño.\n",
    "\n",
    "A continuación se presenta un gráfico de barras, donde cada barra representa el RMSE de un modelo específico. Los modelos se comparan tanto antes como después de la calibración de parámetros.\n",
    "\n",
    "El modelo con el RMSE más bajo se resalta en rojo. En este caso, el modelo XGBoost calibrado parece ser el mejor entre los modelos presentados."
   ]
  },
  {
   "cell_type": "code",
   "execution_count": 32,
   "metadata": {},
   "outputs": [
    {
     "data": {
      "image/png": "[encoded data removed]",
      "text/plain": [
       "<Figure size 432x288 with 1 Axes>"
      ]
     },
     "metadata": {},
     "output_type": "display_data"
    }
   ],
   "source": [
    "# Celda 8\n",
    "fig = plt.figure()\n",
    "ax = fig.add_axes([0, 0, 1, 1])\n",
    "ax.set_title(\"Comparación de modelos\")\n",
    "ejeX = ['Random forest sin calibrar', 'Random forest calibrado', 'XGBoost sin calibrar', 'XGBoost calibrado']\n",
    "ejeY = [rmse4, rmse5, rmse6, rmse7]\n",
    "\n",
    "min_rmse_index = ejeY.index(min(ejeY))\n",
    "\n",
    "colors = ['blue' if i != min_rmse_index else 'red' for i in range(len(ejeY))]\n",
    "\n",
    "ax.bar(ejeX, ejeY, color=colors)\n",
    "\n",
    "def addlabels(x, y, plotP):\n",
    "    for i in range(len(x)):\n",
    "        plotP.text(i, y[i], f\"{y[i]:.3f}\", ha='center')\n",
    "\n",
    "addlabels(ejeX, ejeY, plt)\n",
    "\n",
    "plt.xticks(rotation=90)\n",
    "\n",
    "plt.show()\n"
   ]
  },
  {
   "cell_type": "markdown",
   "metadata": {},
   "source": [
    "Como se puede ver en el gráfico comparativo el modelo que obtuvo el menor error fue el XGBoost con calibración de parámetros, sin embargo el modelo de random forest tuvo un rmse muy cercano. Es evidente que en ambos modelos la calibración de parámetros ayudó considerablemente a mejorar el desempeño. En cuanto a los modelos, las ventajas que tiene el XGBoost sobre el random forest son la regularización, la validación cruzada y el soporte de valores nulos. Además de lo anterior el modelo XGBoost tiene una gran optimización y supone una menor carga computacional para el sistema. Las desventajas del random forest, en el caso de estar sin calibrar es su tendencia al overfitting, además es más costoso computacionalmente, por lo que es más lento realizando predicciones.\n",
    "\n",
    "Es por esta razón que en este caso el modelo XGBoost es el mejor en todos los aspectos y sería la opción recomendable para realizar predicciones con este conjunto de datos."
   ]
  }
 ],
 "metadata": {
  "kernelspec": {
   "display_name": "Python 3 (Spyder)",
   "language": "python3",
   "name": "python3"
  },
  "language_info": {
   "codemirror_mode": {
    "name": "ipython",
    "version": 3
   },
   "file_extension": ".py",
   "mimetype": "text/x-python",
   "name": "python",
   "nbconvert_exporter": "python",
   "pygments_lexer": "ipython3",
   "version": "3.11.7"
  }
 },
 "nbformat": 4,
 "nbformat_minor": 4
}
