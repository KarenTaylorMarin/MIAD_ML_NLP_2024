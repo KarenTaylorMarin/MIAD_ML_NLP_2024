{
 "cells": [
  {
   "cell_type": "markdown",
   "metadata": {},
   "source": [
    "![image info](https://raw.githubusercontent.com/albahnsen/MIAD_ML_and_NLP/main/images/banner_1.png)"
   ]
  },
  {
   "cell_type": "markdown",
   "metadata": {},
   "source": [
    "# Taller: Análisis de sentimientos y técnicas de NLP\n",
    "\n",
    "En este taller podrán poner en práctica sus conocimientos sobre las diferentes técnicas para el procesamiento de lenguaje natural. El taller está constituido por 5 puntos, en los cuales deberan seguir las intrucciones de cada numeral para su desarrollo."
   ]
  },
  {
   "cell_type": "markdown",
   "metadata": {},
   "source": [
    "## Datos predicción sentimientos de viajeros en Twitter\n",
    "\n",
    "En este taller se usará el conjunto de datos de sentimientos sobre distintas aerolíneas de EE.UU. provenientes de Twitter. Cada observación contiene si el sentimiento de los tweets es positivo, neutral o negativo teniendo en cuenta distintas variables como aerolínea y las razones de los sentimientos negativos (como \"retraso en el vuelo\" o \"servicio grosero\"). El objetivo es predecir el sentimiento asociado a cada tweet. Para más detalles pueden visitar el siguiente enlace: [datos](https://www.kaggle.com/crowdflower/twitter-airline-sentiment)."
   ]
  },
  {
   "cell_type": "code",
   "execution_count": 1,
   "metadata": {},
   "outputs": [],
   "source": [
    "import warnings\n",
    "warnings.filterwarnings('ignore')"
   ]
  },
  {
   "cell_type": "code",
   "execution_count": 2,
   "metadata": {},
   "outputs": [],
   "source": [
    "# Importación de librerías\n",
    "import pandas as pd\n",
    "import numpy as np\n",
    "%matplotlib inline\n",
    "import matplotlib.pyplot as plt"
   ]
  },
  {
   "cell_type": "code",
   "execution_count": 3,
   "metadata": {},
   "outputs": [
    {
     "data": {
      "text/html": [
       "<div>\n",
       "<style scoped>\n",
       "    .dataframe tbody tr th:only-of-type {\n",
       "        vertical-align: middle;\n",
       "    }\n",
       "\n",
       "    .dataframe tbody tr th {\n",
       "        vertical-align: top;\n",
       "    }\n",
       "\n",
       "    .dataframe thead th {\n",
       "        text-align: right;\n",
       "    }\n",
       "</style>\n",
       "<table border=\"1\" class=\"dataframe\">\n",
       "  <thead>\n",
       "    <tr style=\"text-align: right;\">\n",
       "      <th></th>\n",
       "      <th>airline_sentiment</th>\n",
       "      <th>airline_sentiment_confidence</th>\n",
       "      <th>negativereason</th>\n",
       "      <th>negativereason_confidence</th>\n",
       "      <th>airline</th>\n",
       "      <th>airline_sentiment_gold</th>\n",
       "      <th>name</th>\n",
       "      <th>negativereason_gold</th>\n",
       "      <th>retweet_count</th>\n",
       "      <th>text</th>\n",
       "      <th>tweet_coord</th>\n",
       "      <th>tweet_created</th>\n",
       "      <th>tweet_location</th>\n",
       "      <th>user_timezone</th>\n",
       "    </tr>\n",
       "    <tr>\n",
       "      <th>tweet_id</th>\n",
       "      <th></th>\n",
       "      <th></th>\n",
       "      <th></th>\n",
       "      <th></th>\n",
       "      <th></th>\n",
       "      <th></th>\n",
       "      <th></th>\n",
       "      <th></th>\n",
       "      <th></th>\n",
       "      <th></th>\n",
       "      <th></th>\n",
       "      <th></th>\n",
       "      <th></th>\n",
       "      <th></th>\n",
       "    </tr>\n",
       "  </thead>\n",
       "  <tbody>\n",
       "    <tr>\n",
       "      <th>570306133677760513</th>\n",
       "      <td>neutral</td>\n",
       "      <td>1.0000</td>\n",
       "      <td>NaN</td>\n",
       "      <td>NaN</td>\n",
       "      <td>Virgin America</td>\n",
       "      <td>NaN</td>\n",
       "      <td>cairdin</td>\n",
       "      <td>NaN</td>\n",
       "      <td>0</td>\n",
       "      <td>@VirginAmerica What @dhepburn said.</td>\n",
       "      <td>NaN</td>\n",
       "      <td>2015-02-24 11:35:52 -0800</td>\n",
       "      <td>NaN</td>\n",
       "      <td>Eastern Time (US &amp; Canada)</td>\n",
       "    </tr>\n",
       "    <tr>\n",
       "      <th>570301130888122368</th>\n",
       "      <td>positive</td>\n",
       "      <td>0.3486</td>\n",
       "      <td>NaN</td>\n",
       "      <td>0.0000</td>\n",
       "      <td>Virgin America</td>\n",
       "      <td>NaN</td>\n",
       "      <td>jnardino</td>\n",
       "      <td>NaN</td>\n",
       "      <td>0</td>\n",
       "      <td>@VirginAmerica plus you've added commercials t...</td>\n",
       "      <td>NaN</td>\n",
       "      <td>2015-02-24 11:15:59 -0800</td>\n",
       "      <td>NaN</td>\n",
       "      <td>Pacific Time (US &amp; Canada)</td>\n",
       "    </tr>\n",
       "    <tr>\n",
       "      <th>570301083672813571</th>\n",
       "      <td>neutral</td>\n",
       "      <td>0.6837</td>\n",
       "      <td>NaN</td>\n",
       "      <td>NaN</td>\n",
       "      <td>Virgin America</td>\n",
       "      <td>NaN</td>\n",
       "      <td>yvonnalynn</td>\n",
       "      <td>NaN</td>\n",
       "      <td>0</td>\n",
       "      <td>@VirginAmerica I didn't today... Must mean I n...</td>\n",
       "      <td>NaN</td>\n",
       "      <td>2015-02-24 11:15:48 -0800</td>\n",
       "      <td>Lets Play</td>\n",
       "      <td>Central Time (US &amp; Canada)</td>\n",
       "    </tr>\n",
       "    <tr>\n",
       "      <th>570301031407624196</th>\n",
       "      <td>negative</td>\n",
       "      <td>1.0000</td>\n",
       "      <td>Bad Flight</td>\n",
       "      <td>0.7033</td>\n",
       "      <td>Virgin America</td>\n",
       "      <td>NaN</td>\n",
       "      <td>jnardino</td>\n",
       "      <td>NaN</td>\n",
       "      <td>0</td>\n",
       "      <td>@VirginAmerica it's really aggressive to blast...</td>\n",
       "      <td>NaN</td>\n",
       "      <td>2015-02-24 11:15:36 -0800</td>\n",
       "      <td>NaN</td>\n",
       "      <td>Pacific Time (US &amp; Canada)</td>\n",
       "    </tr>\n",
       "    <tr>\n",
       "      <th>570300817074462722</th>\n",
       "      <td>negative</td>\n",
       "      <td>1.0000</td>\n",
       "      <td>Can't Tell</td>\n",
       "      <td>1.0000</td>\n",
       "      <td>Virgin America</td>\n",
       "      <td>NaN</td>\n",
       "      <td>jnardino</td>\n",
       "      <td>NaN</td>\n",
       "      <td>0</td>\n",
       "      <td>@VirginAmerica and it's a really big bad thing...</td>\n",
       "      <td>NaN</td>\n",
       "      <td>2015-02-24 11:14:45 -0800</td>\n",
       "      <td>NaN</td>\n",
       "      <td>Pacific Time (US &amp; Canada)</td>\n",
       "    </tr>\n",
       "  </tbody>\n",
       "</table>\n",
       "</div>"
      ],
      "text/plain": [
       "                   airline_sentiment  airline_sentiment_confidence  \\\n",
       "tweet_id                                                             \n",
       "570306133677760513           neutral                        1.0000   \n",
       "570301130888122368          positive                        0.3486   \n",
       "570301083672813571           neutral                        0.6837   \n",
       "570301031407624196          negative                        1.0000   \n",
       "570300817074462722          negative                        1.0000   \n",
       "\n",
       "                   negativereason  negativereason_confidence         airline  \\\n",
       "tweet_id                                                                       \n",
       "570306133677760513            NaN                        NaN  Virgin America   \n",
       "570301130888122368            NaN                     0.0000  Virgin America   \n",
       "570301083672813571            NaN                        NaN  Virgin America   \n",
       "570301031407624196     Bad Flight                     0.7033  Virgin America   \n",
       "570300817074462722     Can't Tell                     1.0000  Virgin America   \n",
       "\n",
       "                   airline_sentiment_gold        name negativereason_gold  \\\n",
       "tweet_id                                                                    \n",
       "570306133677760513                    NaN     cairdin                 NaN   \n",
       "570301130888122368                    NaN    jnardino                 NaN   \n",
       "570301083672813571                    NaN  yvonnalynn                 NaN   \n",
       "570301031407624196                    NaN    jnardino                 NaN   \n",
       "570300817074462722                    NaN    jnardino                 NaN   \n",
       "\n",
       "                    retweet_count  \\\n",
       "tweet_id                            \n",
       "570306133677760513              0   \n",
       "570301130888122368              0   \n",
       "570301083672813571              0   \n",
       "570301031407624196              0   \n",
       "570300817074462722              0   \n",
       "\n",
       "                                                                 text  \\\n",
       "tweet_id                                                                \n",
       "570306133677760513                @VirginAmerica What @dhepburn said.   \n",
       "570301130888122368  @VirginAmerica plus you've added commercials t...   \n",
       "570301083672813571  @VirginAmerica I didn't today... Must mean I n...   \n",
       "570301031407624196  @VirginAmerica it's really aggressive to blast...   \n",
       "570300817074462722  @VirginAmerica and it's a really big bad thing...   \n",
       "\n",
       "                   tweet_coord              tweet_created tweet_location  \\\n",
       "tweet_id                                                                   \n",
       "570306133677760513         NaN  2015-02-24 11:35:52 -0800            NaN   \n",
       "570301130888122368         NaN  2015-02-24 11:15:59 -0800            NaN   \n",
       "570301083672813571         NaN  2015-02-24 11:15:48 -0800      Lets Play   \n",
       "570301031407624196         NaN  2015-02-24 11:15:36 -0800            NaN   \n",
       "570300817074462722         NaN  2015-02-24 11:14:45 -0800            NaN   \n",
       "\n",
       "                                 user_timezone  \n",
       "tweet_id                                        \n",
       "570306133677760513  Eastern Time (US & Canada)  \n",
       "570301130888122368  Pacific Time (US & Canada)  \n",
       "570301083672813571  Central Time (US & Canada)  \n",
       "570301031407624196  Pacific Time (US & Canada)  \n",
       "570300817074462722  Pacific Time (US & Canada)  "
      ]
     },
     "execution_count": 3,
     "metadata": {},
     "output_type": "execute_result"
    }
   ],
   "source": [
    "# Lectura de la información de archivo .zip\n",
    "tweets = pd.read_csv('https://raw.githubusercontent.com/albahnsen/MIAD_ML_and_NLP/main/datasets/Tweets.zip', index_col=0)\n",
    "\n",
    "# Visualización dataset\n",
    "tweets.head()"
   ]
  },
  {
   "cell_type": "code",
   "execution_count": 4,
   "metadata": {},
   "outputs": [
    {
     "data": {
      "text/plain": [
       "(14640, 14)"
      ]
     },
     "execution_count": 4,
     "metadata": {},
     "output_type": "execute_result"
    }
   ],
   "source": [
    "# Impresión tamaño del cojunto de datos\n",
    "tweets.shape"
   ]
  },
  {
   "cell_type": "markdown",
   "metadata": {},
   "source": [
    "### Análisis descriptivo"
   ]
  },
  {
   "cell_type": "code",
   "execution_count": 5,
   "metadata": {},
   "outputs": [
    {
     "data": {
      "text/plain": [
       "airline_sentiment\n",
       "negative    9178\n",
       "neutral     3099\n",
       "positive    2363\n",
       "Name: count, dtype: int64"
      ]
     },
     "execution_count": 5,
     "metadata": {},
     "output_type": "execute_result"
    }
   ],
   "source": [
    "# Cuenta de tweets por cada sentimiento\n",
    "tweets['airline_sentiment'].value_counts()"
   ]
  },
  {
   "cell_type": "code",
   "execution_count": 6,
   "metadata": {},
   "outputs": [
    {
     "data": {
      "text/plain": [
       "airline\n",
       "United            3822\n",
       "US Airways        2913\n",
       "American          2759\n",
       "Southwest         2420\n",
       "Delta             2222\n",
       "Virgin America     504\n",
       "Name: count, dtype: int64"
      ]
     },
     "execution_count": 6,
     "metadata": {},
     "output_type": "execute_result"
    }
   ],
   "source": [
    "# Cuenta de tweets por cada aerolínea\n",
    "tweets['airline'].value_counts()"
   ]
  },
  {
   "cell_type": "code",
   "execution_count": 7,
   "metadata": {},
   "outputs": [
    {
     "data": {
      "text/plain": [
       "<Axes: title={'center': 'Sentiminetos por aerolínea'}, xlabel='airline'>"
      ]
     },
     "execution_count": 7,
     "metadata": {},
     "output_type": "execute_result"
    },
    {
     "data": {
      "image/png": "[encoded data removed]",
      "text/plain": [
       "<Figure size 1000x600 with 1 Axes>"
      ]
     },
     "metadata": {},
     "output_type": "display_data"
    }
   ],
   "source": [
    "# Plot con cuenta de tweets por cada aerolínea y sentimiento\n",
    "pd.crosstab(index = tweets[\"airline\"],columns = tweets[\"airline_sentiment\"]).plot(kind='bar',figsize=(10, 6),alpha=0.5,rot=0,stacked=True,title=\"Sentiminetos por aerolínea\")"
   ]
  },
  {
   "cell_type": "markdown",
   "metadata": {},
   "source": [
    "### Liberias y Variables de interés y predicción"
   ]
  },
  {
   "cell_type": "code",
   "execution_count": 8,
   "metadata": {},
   "outputs": [],
   "source": [
    "from sklearn.model_selection import train_test_split, cross_val_score\n",
    "from sklearn.feature_extraction.text import CountVectorizer, TfidfVectorizer\n",
    "from sklearn.ensemble import RandomForestClassifier\n",
    "from nltk.stem.snowball import SnowballStemmer\n",
    "from nltk.stem import WordNetLemmatizer"
   ]
  },
  {
   "cell_type": "code",
   "execution_count": 9,
   "metadata": {},
   "outputs": [],
   "source": [
    "# Separación de variables predictoras (X) y de variable de interés (y)\n",
    "X = tweets['text']\n",
    "y = tweets['airline_sentiment'].map({'negative':-1,'neutral':0,'positive':1})"
   ]
  },
  {
   "cell_type": "code",
   "execution_count": 10,
   "metadata": {},
   "outputs": [],
   "source": [
    "# Separación de datos en set de entrenamiento y test\n",
    "X_train, X_test, y_train, y_test = train_test_split(X, y, test_size=0.33, random_state=42)"
   ]
  },
  {
   "cell_type": "markdown",
   "metadata": {},
   "source": [
    "### Punto 1 - Uso de CountVectorizer\n",
    "\n",
    "En la celda 1 creen un modelo de random forest con la libreria sklearn que prediga el sentimiento de los tweets usando los set de entrenamiento y test definidos anteriormente. Usen la función **CountVectorizer** y presenten el desempeño del modelo con la métrica del acurracy.\n",
    "\n",
    "Recuerden que el preprocesamiento que se haga sobre los datos de entrenamiento  (*.fit_transform()*) deben ser aplicado al set de test (*.transform()*)."
   ]
  },
  {
   "cell_type": "code",
   "execution_count": 11,
   "metadata": {},
   "outputs": [
    {
     "name": "stdout",
     "output_type": "stream",
     "text": [
      "Precisión del modelo (Accuracy): 77.11%\n"
     ]
    }
   ],
   "source": [
    "# Celda 1\n",
    "from sklearn.feature_extraction.text import CountVectorizer\n",
    "from sklearn.ensemble import RandomForestClassifier\n",
    "from sklearn.metrics import accuracy_score\n",
    "\n",
    "vectorizer = CountVectorizer()\n",
    "X_train_vectorized = vectorizer.fit_transform(X_train)\n",
    "X_test_vectorized = vectorizer.transform(X_test)\n",
    "\n",
    "random_forest = RandomForestClassifier(random_state=42)\n",
    "random_forest.fit(X_train_vectorized, y_train)\n",
    "\n",
    "y_pred = random_forest.predict(X_test_vectorized)\n",
    "\n",
    "accuracy_CV = accuracy_score(y_test, y_pred)\n",
    "print(\"Precisión del modelo (Accuracy): {:.2f}%\".format(accuracy_CV * 100))\n"
   ]
  },
  {
   "cell_type": "markdown",
   "metadata": {},
   "source": [
    "### Punto 2 - Eliminación de Stopwords\n",
    "\n",
    "En la celda 2 creen un modelo de random forest con la libreria sklearn que prediga el sentimiento de los tweets usando los set de entrenamiento y test definidos anteriormente. Usen la función CountVectorizer, **eliminen stopwords** y presenten el desempeño del modelo con la métrica del acurracy.\n",
    "\n",
    "Recuerden que el preprocesamiento que se haga sobre los datos de entrenamiento  (*.fit_transform()*) deben ser aplicado al set de test (*.transform()*)."
   ]
  },
  {
   "cell_type": "code",
   "execution_count": 12,
   "metadata": {},
   "outputs": [
    {
     "name": "stdout",
     "output_type": "stream",
     "text": [
      "Accuracy del modelo usando CountVectorizer con eliminación de stopwords: 76.18%\n",
      "Stopwords utilizadas en CountVectorizer con eliminación de stopwords:\n",
      "frozenset({'himself', 'out', 'sometimes', 'done', 'each', 'wherein', 'as', 'if', 'my', 'was', 'namely', 'well', 'others', 'formerly', 'side', 'do', 'thru', 'alone', 'sincere', 'or', 'may', 'ten', 'herself', 'might', 'call', 'however', 'his', 'found', 'front', 'be', 'upon', 'i', 'themselves', 'same', 'than', 'another', 'inc', 'twenty', 'with', 'against', 'became', 'of', 'these', 'mine', 'already', 'has', 'him', 'whenever', 'also', 'nobody', 'us', 'even', 'indeed', 'will', 'otherwise', 'must', 'yourselves', 'after', 'can', 'keep', 'anyhow', 'more', 'for', 'further', 'rather', 'mill', 'whose', 'fill', 'all', 'are', 'whether', 'what', 'would', 'beside', 'everyone', 'somehow', 'around', 'to', 'whole', 'nor', 'hereupon', 'thin', 'where', 'twelve', 'have', 'which', 'hence', 'them', 'thick', 'why', 'seeming', 'ie', 'either', 'by', 'describe', 'under', 'get', 'toward', 'who', 'fifty', 'give', 'through', 'last', 'cannot', 'whatever', 'every', 'beforehand', 'co', 'herein', 'beyond', 'whence', 'whereafter', 'almost', 'bottom', 'perhaps', 'how', 'whoever', 'always', 'am', 'anything', 'name', 'nowhere', 'from', 'three', 'sixty', 'throughout', 'hundred', 'own', 'two', 'itself', 'cry', 'onto', 'move', 'thus', 'before', 'yourself', 'other', 'thence', 'off', 'first', 'hasnt', 'such', 'hereafter', 'both', 'below', 'were', 'five', 'seem', 'since', 'a', 'an', 'yours', 'next', 're', 'else', 'anyone', 'we', 'into', 'four', 'thereby', 'enough', 'been', 'our', 'neither', 'forty', 'latter', 'former', 'therein', 'he', 'third', 'everything', 'often', 'eleven', 'interest', 'much', 'myself', 'whereupon', 'moreover', 'whereas', 'fire', 'her', 'made', 'somewhere', 'cant', 'except', 'couldnt', 'eg', 'put', 'within', 'in', 'empty', 'several', 'until', 'very', 'sometime', 'at', 'hereby', 'the', 'take', 'among', 'ours', 'eight', 'none', 'therefore', 'etc', 'system', 'whereby', 'become', 'although', 'nevertheless', 'whither', 'towards', 'yet', 'those', 'up', 'amongst', 'thereafter', 'you', 'fifteen', 'me', 'then', 'when', 'thereupon', 'should', 'about', 'most', 'something', 'go', 'nothing', 'because', 'con', 'any', 'across', 'hers', 'meanwhile', 'see', 'mostly', 'too', 'behind', 'never', 'above', 'amount', 'few', 'along', 'nine', 'on', 'over', 'find', 'they', 'becomes', 'your', 'but', 'no', 'one', 'whom', 'only', 'seems', 'down', 'here', 'without', 'still', 'though', 'least', 'while', 'per', 'together', 'everywhere', 'had', 'it', 'its', 'besides', 'this', 'she', 'not', 'part', 'anyway', 'serious', 'back', 'six', 'so', 'noone', 'due', 'once', 'elsewhere', 'show', 'ltd', 'again', 'please', 'their', 'bill', 'some', 'someone', 'top', 'ever', 'amoungst', 'afterwards', 'is', 'between', 'and', 'now', 'during', 'could', 'anywhere', 'there', 'detail', 'latterly', 'via', 'seemed', 'that', 'becoming', 'de', 'less', 'being', 'many', 'un', 'full', 'wherever', 'ourselves'})\n"
     ]
    }
   ],
   "source": [
    "# Celda 2\n",
    "# Eliminación de stopwords al usar el parámetro 'stop_words' de la función CountVectorizer()\n",
    "vect_no_stopw = CountVectorizer(stop_words='english')\n",
    "\n",
    "# Ajustar y transformar los datos de entrenamiento\n",
    "X_train_no_stopw = vect_no_stopw.fit_transform(X_train)\n",
    "\n",
    "# Transformar los datos de prueba\n",
    "X_test_no_stopw = vect_no_stopw.transform(X_test)\n",
    "\n",
    "# Crear una instancia del clasificador RandomForestClassifier\n",
    "modelo_no_stopw = RandomForestClassifier(random_state=42)\n",
    "\n",
    "# Entrenar el modelo utilizando los datos de entrenamiento\n",
    "modelo_no_stopw.fit(X_train_no_stopw, y_train)\n",
    "\n",
    "# Predecir las etiquetas de sentimiento en el conjunto de prueba\n",
    "y_no_stopw = modelo_no_stopw.predict(X_test_no_stopw)\n",
    "\n",
    "# Evaluar el desempeño del modelo utilizando la métrica de precisión (accuracy)\n",
    "accuracy_no_stopw = accuracy_score(y_test, y_no_stopw)\n",
    "print(\"Accuracy del modelo usando CountVectorizer con eliminación de stopwords: {:.2f}%\".format(accuracy_no_stopw * 100))\n",
    "\n",
    "# Impresión de stopwords del texto\n",
    "print(\"Stopwords utilizadas en CountVectorizer con eliminación de stopwords:\")\n",
    "print(vect_no_stopw.get_stop_words())"
   ]
  },
  {
   "cell_type": "markdown",
   "metadata": {},
   "source": [
    "### Punto 3 - Lematización con verbos\n",
    "\n",
    "En la celda 3 creen un modelo de random forest con la libreria sklearn que prediga el sentimiento de los tweets usando los set de entrenamiento y test definidos anteriormente. Usen la función CountVectorizer, **lematizen el texto con verbos** y presenten el desempeño del modelo con la métrica del acurracy.\n",
    "\n",
    "Recuerden que el preprocesamiento que se haga sobre los datos de entrenamiento  (*.fit_transform()*) deben ser aplicado al set de test (*.transform()*)."
   ]
  },
  {
   "cell_type": "code",
   "execution_count": 13,
   "metadata": {},
   "outputs": [
    {
     "name": "stderr",
     "output_type": "stream",
     "text": [
      "[nltk_data] Downloading package wordnet to\n",
      "[nltk_data]     C:\\Users\\karen\\AppData\\Roaming\\nltk_data...\n",
      "[nltk_data]   Package wordnet is already up-to-date!\n"
     ]
    },
    {
     "name": "stdout",
     "output_type": "stream",
     "text": [
      "Accuracy del modelo usando CountVectorizer con lematización con verbos: 77.50%\n"
     ]
    }
   ],
   "source": [
    "# Celda 3\n",
    "# Importación de librerias\n",
    "from nltk.stem import WordNetLemmatizer\n",
    "wordnet_lemmatizer = WordNetLemmatizer()\n",
    "import nltk\n",
    "nltk.download('wordnet')\n",
    "\n",
    "# Crear una instancia de CountVectorizer con lematización de verbos\n",
    "class LemmaTokenizer:\n",
    "    def __init__(self):\n",
    "        self.wnl = WordNetLemmatizer()\n",
    "    def __call__(self, doc):\n",
    "        return [self.wnl.lemmatize(t, pos='v') for t in nltk.word_tokenize(doc)]\n",
    "\n",
    "#vect_lemas = CountVectorizer(analyzer=split_into_lemmas)\n",
    "vect_lemas = CountVectorizer(tokenizer=LemmaTokenizer())\n",
    "\n",
    "# Ajustar y transformar los datos de entrenamiento\n",
    "X_train_lemas = vect_lemas.fit_transform(X_train)\n",
    "\n",
    "# Transformar los datos de prueba\n",
    "X_test_lemas = vect_lemas.transform(X_test)\n",
    "\n",
    "# Crear una instancia del clasificador RandomForestClassifier\n",
    "modelo_lemas = RandomForestClassifier(random_state=42)\n",
    "\n",
    "# Entrenar el modelo utilizando los datos de entrenamiento\n",
    "modelo_lemas.fit(X_train_lemas, y_train)\n",
    "\n",
    "# Predecir las etiquetas de sentimiento en el conjunto de prueba\n",
    "y_lemas = modelo_lemas.predict(X_test_lemas)\n",
    "\n",
    "# Evaluar el desempeño del modelo utilizando la métrica de precisión (accuracy)\n",
    "accuracy_lemas = accuracy_score(y_test, y_lemas)\n",
    "print(\"Accuracy del modelo usando CountVectorizer con lematización con verbos: {:.2f}%\".format(accuracy_lemas * 100))"
   ]
  },
  {
   "cell_type": "markdown",
   "metadata": {},
   "source": [
    "### Punto 4 - Multiples técnicas\n",
    "\n",
    "En la celda 4 creen un modelo de random forest con la libreria sklearn que prediga el sentimiento de los tweets usando los set de entrenamiento y test definidos anteriormente. Usen la función **CountVectorizer, eliminen stopwords, lematizen el texto con verbos** y presenten el desempeño del modelo con la métrica del acurracy.\n",
    "\n",
    "Recuerden que el preprocesamiento que se haga sobre los datos de entrenamiento  (*.fit_transform()*) deben ser aplicado al set de test (*.transform()*)."
   ]
  },
  {
   "cell_type": "code",
   "execution_count": 14,
   "metadata": {},
   "outputs": [
    {
     "name": "stdout",
     "output_type": "stream",
     "text": [
      "Accuracy del modelo usando CountVectorizer con eliminación de stopwords y con lematización con verbos: 77.73%\n"
     ]
    }
   ],
   "source": [
    "# Celda 4\n",
    "# Crear una instancia de CountVectorizer con eliminación de stopwords y lematización de verbos\n",
    "class LemmaTokenizer:\n",
    "    def __init__(self):\n",
    "        self.wnl = WordNetLemmatizer()\n",
    "    def __call__(self, doc):\n",
    "        return [self.wnl.lemmatize(t, pos='v') for t in nltk.word_tokenize(doc)]\n",
    "\n",
    "vect_all  = CountVectorizer(tokenizer=LemmaTokenizer(), stop_words='english')\n",
    "\n",
    "# Ajustar y transformar los datos de entrenamiento\n",
    "X_train_all = vect_all.fit_transform(X_train)\n",
    "\n",
    "# Transformar los datos de prueba\n",
    "X_test_all = vect_all.transform(X_test)\n",
    "\n",
    "# Crear una instancia del clasificador RandomForestClassifier\n",
    "modelo_all = RandomForestClassifier(random_state=42)\n",
    "\n",
    "# Entrenar el modelo utilizando los datos de entrenamiento\n",
    "modelo_all.fit(X_train_all, y_train)\n",
    "\n",
    "# Predecir las etiquetas de sentimiento en el conjunto de prueba\n",
    "y_all = modelo_all.predict(X_test_all)\n",
    "\n",
    "# Evaluar el desempeño del modelo utilizando la métrica de precisión (accuracy)\n",
    "accuracy_all = accuracy_score(y_test, y_all)\n",
    "print(\"Accuracy del modelo usando CountVectorizer con eliminación de stopwords y con lematización con verbos: {:.2f}%\".format(accuracy_all * 100))"
   ]
  },
  {
   "cell_type": "markdown",
   "metadata": {},
   "source": [
    "### Punto 5 - Comparación y análisis de resultados\n",
    "\n",
    "En la celda 5 comparen los resultados obtenidos de los diferentes modelos (random forest) y comenten las ventajas del mejor modelo y las desventajas del modelo con el menor desempeño."
   ]
  },
  {
   "cell_type": "code",
   "execution_count": 16,
   "metadata": {},
   "outputs": [
    {
     "data": {
      "image/png": "[encoded data removed]",
      "text/plain": [
       "<Figure size 1000x600 with 1 Axes>"
      ]
     },
     "metadata": {},
     "output_type": "display_data"
    }
   ],
   "source": [
    "# Celada 5\n",
    "import matplotlib.pyplot as plt\n",
    "\n",
    "# Definir los nombres de los modelos y sus accuracies\n",
    "model_names = ['CV', 'CV + SW', 'CV + LEM', 'CV + SW + LEM']\n",
    "accuracies = [accuracy_CV, accuracy_no_stopw, accuracy_lemas, accuracy_all]  # Reemplaza con tus valores\n",
    "\n",
    "# Obtener el índice del modelo con el mejor accuracy\n",
    "best_model_index = accuracies.index(max(accuracies))\n",
    "\n",
    "# Crear el gráfico de barras\n",
    "plt.figure(figsize=(10, 6))\n",
    "bars = plt.bar(model_names, accuracies, color='skyblue')\n",
    "bars[best_model_index].set_color('#77dd77')  # Cambiar el color de la barra del mejor accuracy\n",
    "plt.xlabel('Modelos')\n",
    "plt.ylabel('Accuracy')\n",
    "plt.title('Comparación de Accuracies de Modelos')\n",
    "plt.ylim(0.0, 1.0)\n",
    "plt.xticks(rotation=45)\n",
    "\n",
    "# Función para agregar etiquetas a las barras\n",
    "def addlabels(x, y, bars):\n",
    "    for i in range(len(x)):\n",
    "        plt.text(i, y[i], f\"{y[i]:.6f}\", ha='center', va='bottom')\n",
    "\n",
    "addlabels(model_names, accuracies, bars)\n",
    "\n",
    "# Mostrar el gráfico\n",
    "plt.tight_layout()\n",
    "plt.show()\n",
    "\n"
   ]
  },
  {
   "cell_type": "markdown",
   "metadata": {},
   "source": [
    "Se observa que el modelo con CountVectorizer, eliminación de stopwords y lematización de verbos obtuvo la precisión más alta, con un 77.73%. \n",
    "\n",
    "Ventajas del mejor modelo:\n",
    "\n",
    "- La eliminación de stopwords reduce el ruido en el texto al eliminar palabras comunes que no aportan información discriminativa.\n",
    "- La lematización de verbos reduce la variabilidad del texto al agrupar las palabras según su forma base.\n",
    "- La precisión del 77.73% indica que el modelo tiene una buena capacidad para generalizar y predecir los sentimientos de los tweets en datos nuevos.\n",
    "\n",
    "Desventajas del modelo con el menor desempeño (CountVectorizer con eliminación de stopwords):\n",
    "\n",
    "- Es posible que la eliminación de algunas palabras que no son stopwords pero que tienen un significado importante para la clasificación de sentimientos pueda afectar negativamente el desempeño del modelo."
   ]
  }
 ],
 "metadata": {
  "kernelspec": {
   "display_name": "Python 3",
   "language": "python",
   "name": "python3"
  },
  "language_info": {
   "codemirror_mode": {
    "name": "ipython",
    "version": 3
   },
   "file_extension": ".py",
   "mimetype": "text/x-python",
   "name": "python",
   "nbconvert_exporter": "python",
   "pygments_lexer": "ipython3",
   "version": "3.12.2"
  }
 },
 "nbformat": 4,
 "nbformat_minor": 2
}
